{
 "cells": [
  {
   "cell_type": "markdown",
   "metadata": {},
   "source": [
    "# LeetCode for binary Tree"
   ]
  },
  {
   "cell_type": "markdown",
   "metadata": {},
   "source": [
    "1. 二叉树最大路径和  \n",
    "> 编号： 124  \n",
    "\n",
    "路径 被定义为一条从树中任意节点出发，沿父节点-子节点连接，达到任意节点的序列。同一个节点在一条路径序列中 至多出现一次 。该路径 至少包含一个 节点，且不一定经过根节点。 \n",
    "\n",
    "路径和 是路径中各节点值的总和。  \n",
    "\n",
    "给你一个二叉树的根节点 root ，返回其 最大路径和   \n"
   ]
  },
  {
   "cell_type": "code",
   "execution_count": null,
   "metadata": {},
   "outputs": [],
   "source": [
    "class Solution(object):\n",
    "    def maxPathSum(self, root):\n",
    "        \"\"\"\n",
    "        :type root: TreeNode\n",
    "        :rtype: int\n",
    "        \"\"\"\n",
    "        self.MIN_VALUE = -float('inf')\n",
    "        def maxValue(root):\n",
    "            if root is None:\n",
    "                return 0\n",
    "            maxLeft = max(0,maxValue(root.left))\n",
    "            maxRight = max(0,maxValue(root.right))\n",
    "            self.MIN_VALUE = max(self.MIN_VALUE, maxLeft + maxRight + root.val)\n",
    "            return root.val + max(maxLeft, maxRight) \n",
    "        new = maxValue(root)\n",
    "        return max(self.MIN_VALUE, new )"
   ]
  },
  {
   "cell_type": "markdown",
   "metadata": {},
   "source": [
    "2. 从前序与中序遍历序列构造二叉树\n",
    "> 编号： 105  \n",
    "\n",
    "给定一棵树的前序遍历 preorder 与中序遍历  inorder。请构造二叉树并返回其根节点。"
   ]
  },
  {
   "cell_type": "code",
   "execution_count": null,
   "metadata": {},
   "outputs": [],
   "source": [
    "class TreeNode(object):\n",
    "    def __init__(self, val=0, left=None, right=None):\n",
    "        self.val = val\n",
    "        self.left = left\n",
    "        self.right = right\n",
    "\n",
    "class Solution(object):\n",
    "    def buildTree(self, preorder, inorder):\n",
    "        \"\"\"\n",
    "        :type preorder: List[int]\n",
    "        :type inorder: List[int]\n",
    "        :rtype: TreeNode\n",
    "        \"\"\"\n",
    "        if not preorder:\n",
    "            return None\n",
    "        root = preorder[0]\n",
    "        rootNode = TreeNode(root)\n",
    "        index = inorder.index(root)\n",
    "        leftTree = self.buildTree(preorder[1:index+1],inorder[:index])\n",
    "        rightTree = self.buildTree(preorder[index+1:],inorder[index+1:])\n",
    "        rootNode.left = leftTree\n",
    "        rootNode.right = rightTree\n",
    "        return rootNode"
   ]
  },
  {
   "cell_type": "markdown",
   "metadata": {},
   "source": [
    "3. 恢复二叉搜索树  \n",
    "> 编号95  \n",
    "\n",
    "给你二叉搜索树的根节点 root ，该树中的两个节点被错误地交换。请在不改变其结构的情况下，恢复这棵树  \n",
    "> 输入：root = [1,3,null,null,2]\n",
    "> 输出：[3,1,null,null,2]\n",
    "> 解释：3 不能是 1 左孩子，因为 3 > 1 。交换 1 和 3 使二叉搜索树有效。  \n",
    "\n",
    "二叉树中序遍历就是排序"
   ]
  },
  {
   "cell_type": "code",
   "execution_count": null,
   "metadata": {},
   "outputs": [],
   "source": [
    "class Solution(object):\n",
    "    def __init__(self):\n",
    "        self.node1 = None\n",
    "        self.node2 = None\n",
    "        self.pre = None\n",
    "    def recoverTree(self, root):\n",
    "        \"\"\"\n",
    "        :type root: TreeNode\n",
    "        :rtype: None Do not return anything, modify root in-place instead.\n",
    "        \"\"\"\n",
    "        self.traverse(root)\n",
    "        temp = self.node1.val\n",
    "        self.node1.val = self.node2.val\n",
    "        self.node2.val = temp\n",
    "    def traverse(self, root):\n",
    "        if root is None:\n",
    "            return\n",
    "        self.traverse(root.left)\n",
    "        if self.pre is not None:\n",
    "            if root.val < self.pre.val and self.node1 is None:\n",
    "                self.node1 = self.pre\n",
    "                self.node2 = root\n",
    "            if root.val < self.pre.val and self.node1 is not None:\n",
    "                self.node2 = root\n",
    "        self.pre = root\n",
    "        self.traverse(root.right)"
   ]
  },
  {
   "cell_type": "markdown",
   "metadata": {},
   "source": [
    "4. 前序遍历 不用递归  \n",
    "> 编号144    \n",
    "\n",
    "考虑通过stack和queue实现  "
   ]
  },
  {
   "cell_type": "code",
   "execution_count": null,
   "metadata": {},
   "outputs": [],
   "source": [
    "class Solution(object):\n",
    "    def preorderTraversal(self, root):\n",
    "        \"\"\"\n",
    "        :type root: TreeNode\n",
    "        :rtype: List[int]\n",
    "        \"\"\"\n",
    "        if not root:\n",
    "            return []\n",
    "        \n",
    "        stack = [root]\n",
    "        res = []\n",
    "        while stack:\n",
    "            cur = stack.pop()\n",
    "            res.append(cur.val)            \n",
    "            if cur.right:\n",
    "                stack.append(cur.right)\n",
    "            if cur.left:\n",
    "                stack.append(cur.left)\n",
    "        return res"
   ]
  },
  {
   "cell_type": "markdown",
   "metadata": {},
   "source": [
    "5. 中序遍历 不用递归  \n",
    "> 编号94  \n",
    "\n",
    "考虑通过stack和queue实现  "
   ]
  },
  {
   "cell_type": "code",
   "execution_count": null,
   "metadata": {},
   "outputs": [],
   "source": [
    "class Solution(object):\n",
    "    def inorderTraversal(self, root):\n",
    "        \"\"\"\n",
    "        :type root: TreeNode\n",
    "        :rtype: List[int]\n",
    "        \"\"\"\n",
    "        stack = []\n",
    "        res = []\n",
    "        while stack or root:\n",
    "            if root is not None:\n",
    "                stack.append(root)\n",
    "                root = root.left\n",
    "            else:\n",
    "                root = stack.pop()\n",
    "                res.append(root.val)\n",
    "                root = root.right\n",
    "        return res"
   ]
  },
  {
   "cell_type": "markdown",
   "metadata": {},
   "source": [
    "6. 后序遍历 不用递归  \n",
    "> 编号145\n",
    "\n",
    "考虑通过stack和queue实现"
   ]
  },
  {
   "cell_type": "code",
   "execution_count": null,
   "metadata": {},
   "outputs": [],
   "source": [
    "class Solution(object):\n",
    "    def postorderTraversal(self, root):\n",
    "        \"\"\"\n",
    "        :type root: TreeNode\n",
    "        :rtype: List[int]\n",
    "        \"\"\"\n",
    "        res = []\n",
    "        queue = []  # 数组模拟栈\n",
    "        last_visit = root\n",
    "        while root or queue:\n",
    "            while root:\n",
    "                queue.insert(0, root)\n",
    "                root = root.left\n",
    "            root = queue[0]\n",
    "            if root.right is None or root.right == last_visit:\n",
    "                res.append(root.val)\n",
    "                queue.pop(0)\n",
    "                last_visit = root\n",
    "                root = None\n",
    "            else:\n",
    "                root = root.right\n",
    "        return res"
   ]
  }
 ],
 "metadata": {
  "interpreter": {
   "hash": "7a1df6e6152eccfae53c55d98ccf7ee794e25dfed4cfa8e4dfad58098839b1ca"
  },
  "kernelspec": {
   "display_name": "Python 3.8.8 64-bit ('CV': conda)",
   "language": "python",
   "name": "python3"
  },
  "language_info": {
   "name": "python",
   "version": "3.8.8"
  },
  "orig_nbformat": 4
 },
 "nbformat": 4,
 "nbformat_minor": 2
}
