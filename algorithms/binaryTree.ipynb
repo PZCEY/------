{
 "cells": [
  {
   "cell_type": "markdown",
   "metadata": {},
   "source": [
    "# LeetCode for binary Tree"
   ]
  },
  {
   "cell_type": "markdown",
   "metadata": {},
   "source": [
    "1. 二叉树最大路径和  \n",
    "> 编号： 124  \n",
    "\n",
    "路径 被定义为一条从树中任意节点出发，沿父节点-子节点连接，达到任意节点的序列。同一个节点在一条路径序列中 至多出现一次 。该路径 至少包含一个 节点，且不一定经过根节点。 \n",
    "\n",
    "路径和 是路径中各节点值的总和。  \n",
    "\n",
    "给你一个二叉树的根节点 root ，返回其 最大路径和   \n"
   ]
  },
  {
   "cell_type": "code",
   "execution_count": null,
   "metadata": {},
   "outputs": [],
   "source": [
    "class Solution(object):\n",
    "    def maxPathSum(self, root):\n",
    "        \"\"\"\n",
    "        :type root: TreeNode\n",
    "        :rtype: int\n",
    "        \"\"\"\n",
    "        self.MIN_VALUE = -float('inf')\n",
    "        def maxValue(root):\n",
    "            if root is None:\n",
    "                return 0\n",
    "            maxLeft = max(0,maxValue(root.left))\n",
    "            maxRight = max(0,maxValue(root.right))\n",
    "            self.MIN_VALUE = max(self.MIN_VALUE, maxLeft + maxRight + root.val)\n",
    "            return root.val + max(maxLeft, maxRight) \n",
    "        new = maxValue(root)\n",
    "        return max(self.MIN_VALUE, new )"
   ]
  },
  {
   "cell_type": "markdown",
   "metadata": {},
   "source": [
    "2. 从前序与中序遍历序列构造二叉树\n",
    "> 编号： 105  \n",
    "\n",
    "给定一棵树的前序遍历 preorder 与中序遍历  inorder。请构造二叉树并返回其根节点。"
   ]
  },
  {
   "cell_type": "code",
   "execution_count": null,
   "metadata": {},
   "outputs": [],
   "source": [
    "class TreeNode(object):\n",
    "    def __init__(self, val=0, left=None, right=None):\n",
    "        self.val = val\n",
    "        self.left = left\n",
    "        self.right = right\n",
    "\n",
    "class Solution(object):\n",
    "    def buildTree(self, preorder, inorder):\n",
    "        \"\"\"\n",
    "        :type preorder: List[int]\n",
    "        :type inorder: List[int]\n",
    "        :rtype: TreeNode\n",
    "        \"\"\"\n",
    "        if not preorder:\n",
    "            return None\n",
    "        root = preorder[0]\n",
    "        rootNode = TreeNode(root)\n",
    "        index = inorder.index(root)\n",
    "        leftTree = self.buildTree(preorder[1:index+1],inorder[:index])\n",
    "        rightTree = self.buildTree(preorder[index+1:],inorder[index+1:])\n",
    "        rootNode.left = leftTree\n",
    "        rootNode.right = rightTree\n",
    "        return rootNode"
   ]
  },
  {
   "cell_type": "markdown",
   "metadata": {},
   "source": [
    "3. 恢复二叉搜索树  \n",
    "> 编号95  \n",
    "\n",
    "给你二叉搜索树的根节点 root ，该树中的两个节点被错误地交换。请在不改变其结构的情况下，恢复这棵树  \n",
    "> 输入：root = [1,3,null,null,2]\n",
    "> 输出：[3,1,null,null,2]\n",
    "> 解释：3 不能是 1 左孩子，因为 3 > 1 。交换 1 和 3 使二叉搜索树有效。  \n",
    "\n",
    "二叉树中序遍历就是排序"
   ]
  },
  {
   "cell_type": "code",
   "execution_count": null,
   "metadata": {},
   "outputs": [],
   "source": [
    "class Solution(object):\n",
    "    def __init__(self):\n",
    "        self.node1 = None\n",
    "        self.node2 = None\n",
    "        self.pre = None\n",
    "    def recoverTree(self, root):\n",
    "        \"\"\"\n",
    "        :type root: TreeNode\n",
    "        :rtype: None Do not return anything, modify root in-place instead.\n",
    "        \"\"\"\n",
    "        self.traverse(root)\n",
    "        temp = self.node1.val\n",
    "        self.node1.val = self.node2.val\n",
    "        self.node2.val = temp\n",
    "    def traverse(self, root):\n",
    "        if root is None:\n",
    "            return\n",
    "        self.traverse(root.left)\n",
    "        if self.pre is not None:\n",
    "            if root.val < self.pre.val and self.node1 is None:\n",
    "                self.node1 = self.pre\n",
    "                self.node2 = root\n",
    "            if root.val < self.pre.val and self.node1 is not None:\n",
    "                self.node2 = root\n",
    "        self.pre = root\n",
    "        self.traverse(root.right)"
   ]
  },
  {
   "cell_type": "markdown",
   "metadata": {},
   "source": [
    "4. 前序遍历 不用递归  \n",
    "> 编号144    \n",
    "\n",
    "考虑通过stack和queue实现  "
   ]
  },
  {
   "cell_type": "code",
   "execution_count": null,
   "metadata": {},
   "outputs": [],
   "source": [
    "class Solution(object):\n",
    "    def preorderTraversal(self, root):\n",
    "        \"\"\"\n",
    "        :type root: TreeNode\n",
    "        :rtype: List[int]\n",
    "        \"\"\"\n",
    "        if not root:\n",
    "            return []\n",
    "        \n",
    "        stack = [root]\n",
    "        res = []\n",
    "        while stack:\n",
    "            cur = stack.pop()\n",
    "            res.append(cur.val)            \n",
    "            if cur.right:\n",
    "                stack.append(cur.right)\n",
    "            if cur.left:\n",
    "                stack.append(cur.left)\n",
    "        return res"
   ]
  },
  {
   "cell_type": "markdown",
   "metadata": {},
   "source": [
    "5. 中序遍历 不用递归  \n",
    "> 编号94  \n",
    "\n",
    "考虑通过stack和queue实现  "
   ]
  },
  {
   "cell_type": "code",
   "execution_count": null,
   "metadata": {},
   "outputs": [],
   "source": [
    "class Solution(object):\n",
    "    def inorderTraversal(self, root):\n",
    "        \"\"\"\n",
    "        :type root: TreeNode\n",
    "        :rtype: List[int]\n",
    "        \"\"\"\n",
    "        stack = []\n",
    "        res = []\n",
    "        while stack or root:\n",
    "            if root is not None:\n",
    "                stack.append(root)\n",
    "                root = root.left\n",
    "            else:\n",
    "                root = stack.pop()\n",
    "                res.append(root.val)\n",
    "                root = root.right\n",
    "        return res"
   ]
  },
  {
   "cell_type": "markdown",
   "metadata": {},
   "source": [
    "6. 后序遍历 不用递归  \n",
    "> 编号145\n",
    "\n",
    "考虑通过stack和queue实现"
   ]
  },
  {
   "cell_type": "code",
   "execution_count": null,
   "metadata": {},
   "outputs": [],
   "source": [
    "class Solution(object):\n",
    "    def postorderTraversal(self, root):\n",
    "        \"\"\"\n",
    "        :type root: TreeNode\n",
    "        :rtype: List[int]\n",
    "        \"\"\"\n",
    "        res = []\n",
    "        queue = []  # 数组模拟栈\n",
    "        last_visit = root\n",
    "        while root or queue:\n",
    "            while root:\n",
    "                queue.insert(0, root)\n",
    "                root = root.left\n",
    "            root = queue[0]\n",
    "            if root.right is None or root.right == last_visit:\n",
    "                res.append(root.val)\n",
    "                queue.pop(0)\n",
    "                last_visit = root\n",
    "                root = None\n",
    "            else:\n",
    "                root = root.right\n",
    "        return res"
   ]
  },
  {
   "cell_type": "markdown",
   "metadata": {},
   "source": [
    "7. 二叉树的层序遍历  \n",
    "> 编号102  \n",
    "\n",
    "用bfs和dfs均可实现  "
   ]
  },
  {
   "cell_type": "code",
   "execution_count": null,
   "metadata": {},
   "outputs": [],
   "source": [
    "# implement by bfs\n",
    "class Solution(object):\n",
    "    def levelOrder(self, root):\n",
    "        \"\"\"\n",
    "        :type root: TreeNode\n",
    "        :rtype: List[List[int]]\n",
    "        \"\"\"\n",
    "        from collections import deque\n",
    "        if not root:\n",
    "            return []\n",
    "        queue = deque()\n",
    "        queue.append(root)\n",
    "        result = []\n",
    "        while queue:\n",
    "            current_layer_size = len(queue)\n",
    "            current_list = []\n",
    "            for i in range(current_layer_size):\n",
    "                node = queue.popleft()\n",
    "                current_list.append(node.val)\n",
    "                if node.left:\n",
    "                    queue.append(node.left)\n",
    "                if node.right:\n",
    "                    queue.append(node.right)\n",
    "            result.append(current_list)\n",
    "        return result"
   ]
  },
  {
   "cell_type": "markdown",
   "metadata": {},
   "source": [
    "8. 二叉树的最大深度 \n",
    "> 编号104  \n",
    "\n",
    "考虑用dfs实现，记录每层深度"
   ]
  },
  {
   "cell_type": "code",
   "execution_count": null,
   "metadata": {},
   "outputs": [],
   "source": [
    "class Solution(object):\n",
    "    def maxDepth(self, root):\n",
    "        \"\"\"\n",
    "        :type root: TreeNode\n",
    "        :rtype: int\n",
    "        \"\"\"\n",
    "        from collections import deque\n",
    "        stack = deque()\n",
    "        if not root:\n",
    "            return 0\n",
    "        stack.append((root,1))\n",
    "        max = 1\n",
    "        while stack:\n",
    "            node = stack.pop()\n",
    "            if node[1] > max:\n",
    "                max = node[1]\n",
    "            if node[0].left:\n",
    "                stack.append((node[0].left,node[1] + 1))\n",
    "            if node[0].right:\n",
    "                stack.append((node[0].right, node[1] + 1))\n",
    "        return max"
   ]
  },
  {
   "cell_type": "markdown",
   "metadata": {},
   "source": [
    "9. 二叉树的最小深度 \n",
    "> 编号111  \n",
    "\n",
    "考虑用dfs实现，记录每层深度"
   ]
  },
  {
   "cell_type": "code",
   "execution_count": null,
   "metadata": {},
   "outputs": [],
   "source": [
    "class Solution(object):\n",
    "    def minDepth(self, root):\n",
    "        \"\"\"\n",
    "        :type root: TreeNode\n",
    "        :rtype: int\n",
    "        \"\"\"\n",
    "        from collections import deque\n",
    "        stack = deque()\n",
    "        min = 9999\n",
    "        if not root:\n",
    "            return 0\n",
    "        stack.append((root,1))\n",
    "        while stack:\n",
    "            node = stack.pop()\n",
    "            if not node[0].right and not node[0].left:\n",
    "                if node[1]<min:\n",
    "                    min = node[1]\n",
    "            if node[0].left:\n",
    "                stack.append((node[0].left,node[1]+1))\n",
    "            if node[0].right:\n",
    "                stack.append((node[0].right, node[1]+1))\n",
    "        return min"
   ]
  },
  {
   "cell_type": "markdown",
   "metadata": {},
   "source": [
    "10. 平衡二叉树\n",
    "> 编号110  \n",
    "\n",
    "用递归实现\n"
   ]
  },
  {
   "cell_type": "code",
   "execution_count": null,
   "metadata": {},
   "outputs": [],
   "source": [
    "class Solution(object):\n",
    "    def __init__(self):\n",
    "        self.max = 0 \n",
    "    def isBalanced(self, root):\n",
    "        \"\"\"\n",
    "        :type root: TreeNode\n",
    "        :rtype: bool\n",
    "        \"\"\"\n",
    "        self.loop(root)\n",
    "        if self.max > 1:\n",
    "            return False\n",
    "        else:\n",
    "            return True\n",
    "    def loop(self, root):\n",
    "        if not root:\n",
    "            return\n",
    "        if abs(self.height(root.left) - self.height(root.right)) > self.max:\n",
    "            self.max = abs(self.height(root.left) - self.height(root.right))\n",
    "        self.loop(root.left)\n",
    "        self.loop(root.right)\n",
    "    \n",
    "    def height(self, root):\n",
    "        if not root:\n",
    "            return 0\n",
    "        return 1 + max(self.height(root.left), self.height(root.right))"
   ]
  },
  {
   "cell_type": "markdown",
   "metadata": {},
   "source": [
    "11. 对称二叉树\n",
    "> 编号101  \n",
    "\n",
    "用迭代和递归均可实现"
   ]
  },
  {
   "cell_type": "code",
   "execution_count": null,
   "metadata": {},
   "outputs": [],
   "source": [
    "class Solution(object):\n",
    "    def isSymmetric(self, root):\n",
    "        \"\"\"\n",
    "        :type root: TreeNode\n",
    "        :rtype: bool\n",
    "        \"\"\"\n",
    "        from collections import deque\n",
    "        queue1 = deque()\n",
    "        queue2 = deque()\n",
    "        if not root:\n",
    "            return True\n",
    "        if root.left and root.right:\n",
    "            queue1.append(root.left)\n",
    "            queue2.append(root.right)\n",
    "        if root.left and not root.right:\n",
    "            return False\n",
    "        if not root.left and root.right:\n",
    "            return False\n",
    "        if not root.left and not root.right:\n",
    "            return True\n",
    "        while queue1 and queue2:\n",
    "            node1 = queue1.popleft()\n",
    "            node2 = queue2.popleft()\n",
    "            if node1 and node2:\n",
    "\n",
    "                if node1.val != node2.val:\n",
    "                    return False\n",
    "                if node1.left and node2.right:\n",
    "                    queue1.append(node1.left)\n",
    "                    queue2.append(node2.right)\n",
    "                if (node1.left and not node2.right) or (not node1.left and node2.right):\n",
    "                    return False\n",
    "                if node1.right and node2.left:\n",
    "                    queue1.append(node1.right)\n",
    "                    queue2.append(node2.left)\n",
    "                if (node2.left and not node1.right) or (not node2.left and node1.right):\n",
    "                    return False\n",
    "        return True"
   ]
  },
  {
   "cell_type": "markdown",
   "metadata": {},
   "source": [
    "12. 翻转二叉树\n",
    "> 编号226  \n",
    "\n",
    "用迭代和递归均可实现"
   ]
  },
  {
   "cell_type": "code",
   "execution_count": null,
   "metadata": {},
   "outputs": [],
   "source": [
    "class Solution(object):\n",
    "    def invertTree(self, root):\n",
    "        \"\"\"\n",
    "        :type root: TreeNode\n",
    "        :rtype: TreeNode\n",
    "        \"\"\"\n",
    "        if not root:\n",
    "            return None\n",
    "        reverseLeft = self.invertTree(root.left)\n",
    "        reverseRight = self.invertTree(root.right)\n",
    "        root.left = reverseRight\n",
    "        root.right = reverseLeft\n",
    "        return root"
   ]
  },
  {
   "cell_type": "markdown",
   "metadata": {},
   "source": []
  }
 ],
 "metadata": {
  "interpreter": {
   "hash": "7a1df6e6152eccfae53c55d98ccf7ee794e25dfed4cfa8e4dfad58098839b1ca"
  },
  "kernelspec": {
   "display_name": "Python 3.8.8 64-bit ('CV': conda)",
   "language": "python",
   "name": "python3"
  },
  "language_info": {
   "name": "python",
   "version": "3.8.8"
  },
  "orig_nbformat": 4
 },
 "nbformat": 4,
 "nbformat_minor": 2
}
