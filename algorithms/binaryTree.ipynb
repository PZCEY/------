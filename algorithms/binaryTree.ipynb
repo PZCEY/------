{
 "cells": [
  {
   "cell_type": "markdown",
   "metadata": {},
   "source": [
    "# LeetCode for binary Tree"
   ]
  },
  {
   "cell_type": "markdown",
   "metadata": {},
   "source": [
    "1. 二叉树最大路径和  \n",
    "> 编号： 124  \n",
    "\n",
    "路径 被定义为一条从树中任意节点出发，沿父节点-子节点连接，达到任意节点的序列。同一个节点在一条路径序列中 至多出现一次 。该路径 至少包含一个 节点，且不一定经过根节点。 \n",
    "\n",
    "路径和 是路径中各节点值的总和。  \n",
    "\n",
    "给你一个二叉树的根节点 root ，返回其 最大路径和   \n"
   ]
  },
  {
   "cell_type": "code",
   "execution_count": null,
   "metadata": {},
   "outputs": [],
   "source": [
    "class Solution(object):\n",
    "    def maxPathSum(self, root):\n",
    "        \"\"\"\n",
    "        :type root: TreeNode\n",
    "        :rtype: int\n",
    "        \"\"\"\n",
    "        self.MIN_VALUE = -float('inf')\n",
    "        def maxValue(root):\n",
    "            if root is None:\n",
    "                return 0\n",
    "            maxLeft = max(0,maxValue(root.left))\n",
    "            maxRight = max(0,maxValue(root.right))\n",
    "            self.MIN_VALUE = max(self.MIN_VALUE, maxLeft + maxRight + root.val)\n",
    "            return root.val + max(maxLeft, maxRight) \n",
    "        new = maxValue(root)\n",
    "        return max(self.MIN_VALUE, new )"
   ]
  },
  {
   "cell_type": "markdown",
   "metadata": {},
   "source": [
    "2. 从前序与中序遍历序列构造二叉树\n",
    "> 编号： 105  \n",
    "\n",
    "给定一棵树的前序遍历 preorder 与中序遍历  inorder。请构造二叉树并返回其根节点。"
   ]
  },
  {
   "cell_type": "code",
   "execution_count": null,
   "metadata": {},
   "outputs": [],
   "source": [
    "class TreeNode(object):\n",
    "    def __init__(self, val=0, left=None, right=None):\n",
    "        self.val = val\n",
    "        self.left = left\n",
    "        self.right = right\n",
    "\n",
    "class Solution(object):\n",
    "    def buildTree(self, preorder, inorder):\n",
    "        \"\"\"\n",
    "        :type preorder: List[int]\n",
    "        :type inorder: List[int]\n",
    "        :rtype: TreeNode\n",
    "        \"\"\"\n",
    "        if not preorder:\n",
    "            return None\n",
    "        root = preorder[0]\n",
    "        rootNode = TreeNode(root)\n",
    "        index = inorder.index(root)\n",
    "        leftTree = self.buildTree(preorder[1:index+1],inorder[:index])\n",
    "        rightTree = self.buildTree(preorder[index+1:],inorder[index+1:])\n",
    "        rootNode.left = leftTree\n",
    "        rootNode.right = rightTree\n",
    "        return rootNode"
   ]
  }
 ],
 "metadata": {
  "language_info": {
   "name": "python"
  },
  "orig_nbformat": 4
 },
 "nbformat": 4,
 "nbformat_minor": 2
}
