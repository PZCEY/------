{
 "cells": [
  {
   "cell_type": "markdown",
   "metadata": {},
   "source": [
    "# 基本数据结构\n",
    "基本数据结构： 数组， 链表\n",
    "1. 数组  \n",
    "   连续存储，查找元素时间复杂度 $O(1)$, 插入或删除的时间复杂度 $O(n)$。  \n",
    "2. 链表\n",
    "   非连续存储，由数据和指针构成，查找的时间复杂度 $O(n)$,插入和删除的时间复杂度$O(1)$。\n",
    "\n",
    "上层数据结构： hash table, tree, stack, queue, priority queue, heap, graph。\n",
    "1. stack  \n",
    "   last in first out: delete and insert from the top\n",
    "2. queue  \n",
    "   first in first out: delete in one side and insert in another side\n",
    "3. graph  \n",
    "   graph can be represented by: ***_adjacency matrix_***, ***_adjacency table_***\n"
   ]
  },
  {
   "cell_type": "markdown",
   "metadata": {},
   "source": [
    "# 数据结构基本操作  \n",
    "operations: insert, delete, search, modify  \n",
    "***iteration***, ***recurrence***  \n"
   ]
  },
  {
   "cell_type": "code",
   "execution_count": 5,
   "metadata": {},
   "outputs": [],
   "source": [
    "#  implementation for linked list\n",
    "class Node(object):\n",
    "    def __init__(self,item):\n",
    "        self.item = item\n",
    "        self.next = None\n",
    "class SingleLinkedList(object):\n",
    "    def __init__(self):\n",
    "        self.head = None\n",
    "\n",
    "    def isEmpty(self):\n",
    "        return self.head is None\n",
    "\n",
    "    def length(self):\n",
    "        current = self.head\n",
    "        count = 0\n",
    "        while current is not None:\n",
    "            current = current.next\n",
    "            count += 1\n",
    "        return count\n",
    "    def items(self):\n",
    "        cur = self.head\n",
    "        while cur is not None:\n",
    "            yield cur.item\n",
    "            cur = cur.next\n",
    "    def add(self,item):\n",
    "        newNode = Node(item)\n",
    "        newNode.next = self.head\n",
    "        self.head = newNode\n",
    "    def append(self, item):\n",
    "        newNode = Node(item)\n",
    "        if self.isEmpty():\n",
    "            self.head = newNode\n",
    "        else:\n",
    "            cur = self.head\n",
    "            while cur.next is not None:\n",
    "                cur = cur.next\n",
    "            cur.next = newNode\n",
    "    def insert(self,pos,item):\n",
    "        newNode = Node(item)\n",
    "        cur = self.head\n",
    "        while pos != 0:\n",
    "            cur = cur.next\n",
    "            pos -= 1\n",
    "        nextNode = cur.next\n",
    "        cur.next = newNode\n",
    "        newNode.next = nextNode\n",
    "    def remove(self, item):\n",
    "        cur = self.head\n",
    "        pre = None\n",
    "        while cur is not None:\n",
    "            if cur.item == item:\n",
    "                if pre is None:\n",
    "                    self.head = cur.next\n",
    "                else:\n",
    "                    pre.next = cur.next\n",
    "                    cur.next = None\n",
    "                return True\n",
    "            pre = cur\n",
    "            cur = cur.next\n",
    "    def find(self, item):\n",
    "        return item in self.items()\n",
    "    "
   ]
  },
  {
   "cell_type": "code",
   "execution_count": 9,
   "metadata": {},
   "outputs": [
    {
     "name": "stdout",
     "output_type": "stream",
     "text": [
      "\n",
      " [0, 1, 2, 3, 4]\n",
      "6\t0\t1\t2\t3\t4\t\n",
      " [6, 0, 1, 2, 9, 3, 4]\n",
      "\n",
      " [6, 1, 2, 9, 3, 4]\n",
      "True\n"
     ]
    }
   ],
   "source": [
    "if __name__ == '__main__':\n",
    "    link_list = SingleLinkedList()\n",
    "    for i in range(5):\n",
    "        link_list.append(i)\n",
    "    print('\\n', list(link_list.items()))\n",
    "    link_list.add(6)\n",
    "    for i in link_list.items():\n",
    "        print(i, end='\\t')\n",
    "    link_list.insert(3, 9)\n",
    "    print('\\n', list(link_list.items()))\n",
    "    link_list.remove(0)\n",
    "    print('\\n', list(link_list.items()))\n",
    "    print(link_list.find(4))\n"
   ]
  },
  {
   "cell_type": "markdown",
   "metadata": {},
   "source": []
  }
 ],
 "metadata": {
  "interpreter": {
   "hash": "7a1df6e6152eccfae53c55d98ccf7ee794e25dfed4cfa8e4dfad58098839b1ca"
  },
  "kernelspec": {
   "display_name": "Python 3.8.8 64-bit ('CV': conda)",
   "language": "python",
   "name": "python3"
  },
  "language_info": {
   "codemirror_mode": {
    "name": "ipython",
    "version": 3
   },
   "file_extension": ".py",
   "mimetype": "text/x-python",
   "name": "python",
   "nbconvert_exporter": "python",
   "pygments_lexer": "ipython3",
   "version": "3.8.8"
  },
  "orig_nbformat": 4
 },
 "nbformat": 4,
 "nbformat_minor": 2
}
