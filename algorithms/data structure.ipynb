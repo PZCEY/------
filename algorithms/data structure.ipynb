{
 "cells": [
  {
   "cell_type": "markdown",
   "metadata": {},
   "source": [
    "# 基本数据结构\n",
    "基本数据结构： 数组， 链表\n",
    "1. 数组  \n",
    "   连续存储，查找元素时间复杂度 $O(1)$, 插入或删除的时间复杂度 $O(n)$。  \n",
    "2. 链表\n",
    "   非连续存储，由数据和指针构成，查找的时间复杂度 $O(n)$,插入和删除的时间复杂度$O(1)$。\n",
    "\n",
    "上层数据结构： hash table, tree, stack, queue, priority queue, heap, graph。\n",
    "1. stack  \n",
    "   last in first out: delete and insert from the top\n",
    "2. queue  \n",
    "   first in first out: delete in one side and insert in another side\n",
    "3. graph  \n",
    "   graph can be represented by: ***_adjacency matrix_***, ***_adjacency table_***\n"
   ]
  },
  {
   "cell_type": "markdown",
   "metadata": {},
   "source": [
    "# 数据结构基本操作  \n",
    "operations: insert, delete, search, modify  \n",
    "***iteration***, ***recurrence***  \n"
   ]
  },
  {
   "cell_type": "code",
   "execution_count": null,
   "metadata": {},
   "outputs": [],
   "source": []
  },
  {
   "cell_type": "code",
   "execution_count": null,
   "metadata": {},
   "outputs": [],
   "source": []
  }
 ],
 "metadata": {
  "language_info": {
   "name": "python"
  },
  "orig_nbformat": 4
 },
 "nbformat": 4,
 "nbformat_minor": 2
}
