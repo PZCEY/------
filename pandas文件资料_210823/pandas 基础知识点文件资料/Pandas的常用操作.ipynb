{
 "cells": [
  {
   "cell_type": "markdown",
   "metadata": {},
   "source": [
    "# DataFrame 的常用操作一\n",
    "1. 转置\n",
    "2. 更改类型\n",
    "3. 排序\n",
    "4. 值替换"
   ]
  },
  {
   "cell_type": "code",
   "execution_count": 15,
   "metadata": {
    "collapsed": true
   },
   "outputs": [],
   "source": [
    "import pandas as pd"
   ]
  },
  {
   "cell_type": "code",
   "execution_count": 29,
   "metadata": {
    "collapsed": true
   },
   "outputs": [],
   "source": [
    "data = {'性别':['男','女','女','男','男'],\n",
    "        '姓名':['小明','小红','小芳','大黑','张三'],\n",
    "        '身高':[178,173,165,188,156],\n",
    "        '年龄':[20,20,25,24,29]}\n",
    "\n",
    "df = pd.DataFrame(data)"
   ]
  },
  {
   "cell_type": "code",
   "execution_count": 30,
   "metadata": {},
   "outputs": [
    {
     "data": {
      "text/html": [
       "<div>\n",
       "<style>\n",
       "    .dataframe thead tr:only-child th {\n",
       "        text-align: right;\n",
       "    }\n",
       "\n",
       "    .dataframe thead th {\n",
       "        text-align: left;\n",
       "    }\n",
       "\n",
       "    .dataframe tbody tr th {\n",
       "        vertical-align: top;\n",
       "    }\n",
       "</style>\n",
       "<table border=\"1\" class=\"dataframe\">\n",
       "  <thead>\n",
       "    <tr style=\"text-align: right;\">\n",
       "      <th></th>\n",
       "      <th>姓名</th>\n",
       "      <th>年龄</th>\n",
       "      <th>性别</th>\n",
       "      <th>身高</th>\n",
       "    </tr>\n",
       "  </thead>\n",
       "  <tbody>\n",
       "    <tr>\n",
       "      <th>0</th>\n",
       "      <td>小明</td>\n",
       "      <td>20</td>\n",
       "      <td>男</td>\n",
       "      <td>178</td>\n",
       "    </tr>\n",
       "    <tr>\n",
       "      <th>1</th>\n",
       "      <td>小红</td>\n",
       "      <td>20</td>\n",
       "      <td>女</td>\n",
       "      <td>173</td>\n",
       "    </tr>\n",
       "    <tr>\n",
       "      <th>2</th>\n",
       "      <td>小芳</td>\n",
       "      <td>25</td>\n",
       "      <td>女</td>\n",
       "      <td>165</td>\n",
       "    </tr>\n",
       "    <tr>\n",
       "      <th>3</th>\n",
       "      <td>大黑</td>\n",
       "      <td>24</td>\n",
       "      <td>男</td>\n",
       "      <td>188</td>\n",
       "    </tr>\n",
       "    <tr>\n",
       "      <th>4</th>\n",
       "      <td>张三</td>\n",
       "      <td>29</td>\n",
       "      <td>男</td>\n",
       "      <td>156</td>\n",
       "    </tr>\n",
       "  </tbody>\n",
       "</table>\n",
       "</div>"
      ],
      "text/plain": [
       "   姓名  年龄 性别   身高\n",
       "0  小明  20  男  178\n",
       "1  小红  20  女  173\n",
       "2  小芳  25  女  165\n",
       "3  大黑  24  男  188\n",
       "4  张三  29  男  156"
      ]
     },
     "execution_count": 30,
     "metadata": {},
     "output_type": "execute_result"
    }
   ],
   "source": [
    "df"
   ]
  },
  {
   "cell_type": "code",
   "execution_count": 18,
   "metadata": {},
   "outputs": [
    {
     "data": {
      "text/plain": [
       "Index(['姓名', '年龄', '性别', '身高'], dtype='object')"
      ]
     },
     "execution_count": 18,
     "metadata": {},
     "output_type": "execute_result"
    }
   ],
   "source": [
    "df.columns"
   ]
  },
  {
   "cell_type": "code",
   "execution_count": 22,
   "metadata": {},
   "outputs": [],
   "source": [
    "# 修改列索引\n",
    "df.columns=['name','age','sex','height']"
   ]
  },
  {
   "cell_type": "code",
   "execution_count": 23,
   "metadata": {},
   "outputs": [
    {
     "data": {
      "text/html": [
       "<div>\n",
       "<style>\n",
       "    .dataframe thead tr:only-child th {\n",
       "        text-align: right;\n",
       "    }\n",
       "\n",
       "    .dataframe thead th {\n",
       "        text-align: left;\n",
       "    }\n",
       "\n",
       "    .dataframe tbody tr th {\n",
       "        vertical-align: top;\n",
       "    }\n",
       "</style>\n",
       "<table border=\"1\" class=\"dataframe\">\n",
       "  <thead>\n",
       "    <tr style=\"text-align: right;\">\n",
       "      <th></th>\n",
       "      <th>name</th>\n",
       "      <th>age</th>\n",
       "      <th>sex</th>\n",
       "      <th>height</th>\n",
       "    </tr>\n",
       "  </thead>\n",
       "  <tbody>\n",
       "    <tr>\n",
       "      <th>0</th>\n",
       "      <td>小明</td>\n",
       "      <td>20</td>\n",
       "      <td>男</td>\n",
       "      <td>178</td>\n",
       "    </tr>\n",
       "    <tr>\n",
       "      <th>1</th>\n",
       "      <td>小红</td>\n",
       "      <td>20</td>\n",
       "      <td>女</td>\n",
       "      <td>173</td>\n",
       "    </tr>\n",
       "    <tr>\n",
       "      <th>2</th>\n",
       "      <td>小芳</td>\n",
       "      <td>25</td>\n",
       "      <td>女</td>\n",
       "      <td>165</td>\n",
       "    </tr>\n",
       "    <tr>\n",
       "      <th>3</th>\n",
       "      <td>大黑</td>\n",
       "      <td>24</td>\n",
       "      <td>男</td>\n",
       "      <td>188</td>\n",
       "    </tr>\n",
       "    <tr>\n",
       "      <th>4</th>\n",
       "      <td>张三</td>\n",
       "      <td>29</td>\n",
       "      <td>男</td>\n",
       "      <td>156</td>\n",
       "    </tr>\n",
       "  </tbody>\n",
       "</table>\n",
       "</div>"
      ],
      "text/plain": [
       "  name  age sex  height\n",
       "0   小明   20   男     178\n",
       "1   小红   20   女     173\n",
       "2   小芳   25   女     165\n",
       "3   大黑   24   男     188\n",
       "4   张三   29   男     156"
      ]
     },
     "execution_count": 23,
     "metadata": {},
     "output_type": "execute_result"
    }
   ],
   "source": [
    "df"
   ]
  },
  {
   "cell_type": "code",
   "execution_count": 26,
   "metadata": {},
   "outputs": [
    {
     "data": {
      "text/plain": [
       "0    20\n",
       "1    20\n",
       "2    25\n",
       "3    24\n",
       "4    29\n",
       "Name: age, dtype: int64"
      ]
     },
     "execution_count": 26,
     "metadata": {},
     "output_type": "execute_result"
    }
   ],
   "source": [
    "df.age"
   ]
  },
  {
   "cell_type": "code",
   "execution_count": 28,
   "metadata": {
    "collapsed": true
   },
   "outputs": [],
   "source": [
    "?df.rename"
   ]
  },
  {
   "cell_type": "code",
   "execution_count": 34,
   "metadata": {},
   "outputs": [],
   "source": [
    "# 使用 rename 函数进行修改列索引\n",
    "df.rename(columns={'姓名':'name', '年龄':'age', '性别':'sex','身高':'height'},inplace=True)"
   ]
  },
  {
   "cell_type": "code",
   "execution_count": 35,
   "metadata": {},
   "outputs": [
    {
     "data": {
      "text/html": [
       "<div>\n",
       "<style>\n",
       "    .dataframe thead tr:only-child th {\n",
       "        text-align: right;\n",
       "    }\n",
       "\n",
       "    .dataframe thead th {\n",
       "        text-align: left;\n",
       "    }\n",
       "\n",
       "    .dataframe tbody tr th {\n",
       "        vertical-align: top;\n",
       "    }\n",
       "</style>\n",
       "<table border=\"1\" class=\"dataframe\">\n",
       "  <thead>\n",
       "    <tr style=\"text-align: right;\">\n",
       "      <th></th>\n",
       "      <th>name</th>\n",
       "      <th>age</th>\n",
       "      <th>sex</th>\n",
       "      <th>height</th>\n",
       "    </tr>\n",
       "  </thead>\n",
       "  <tbody>\n",
       "    <tr>\n",
       "      <th>0</th>\n",
       "      <td>小明</td>\n",
       "      <td>20</td>\n",
       "      <td>男</td>\n",
       "      <td>178</td>\n",
       "    </tr>\n",
       "    <tr>\n",
       "      <th>1</th>\n",
       "      <td>小红</td>\n",
       "      <td>20</td>\n",
       "      <td>女</td>\n",
       "      <td>173</td>\n",
       "    </tr>\n",
       "    <tr>\n",
       "      <th>2</th>\n",
       "      <td>小芳</td>\n",
       "      <td>25</td>\n",
       "      <td>女</td>\n",
       "      <td>165</td>\n",
       "    </tr>\n",
       "    <tr>\n",
       "      <th>3</th>\n",
       "      <td>大黑</td>\n",
       "      <td>24</td>\n",
       "      <td>男</td>\n",
       "      <td>188</td>\n",
       "    </tr>\n",
       "    <tr>\n",
       "      <th>4</th>\n",
       "      <td>张三</td>\n",
       "      <td>29</td>\n",
       "      <td>男</td>\n",
       "      <td>156</td>\n",
       "    </tr>\n",
       "  </tbody>\n",
       "</table>\n",
       "</div>"
      ],
      "text/plain": [
       "  name  age sex  height\n",
       "0   小明   20   男     178\n",
       "1   小红   20   女     173\n",
       "2   小芳   25   女     165\n",
       "3   大黑   24   男     188\n",
       "4   张三   29   男     156"
      ]
     },
     "execution_count": 35,
     "metadata": {},
     "output_type": "execute_result"
    }
   ],
   "source": [
    "df"
   ]
  },
  {
   "cell_type": "code",
   "execution_count": 37,
   "metadata": {
    "collapsed": true
   },
   "outputs": [],
   "source": [
    "?df.replace"
   ]
  },
  {
   "cell_type": "code",
   "execution_count": 40,
   "metadata": {},
   "outputs": [],
   "source": [
    "# 替换一个值\n",
    "df.replace({'name':{'小明':'xiaoming'}},inplace=True)"
   ]
  },
  {
   "cell_type": "code",
   "execution_count": 41,
   "metadata": {},
   "outputs": [
    {
     "data": {
      "text/html": [
       "<div>\n",
       "<style>\n",
       "    .dataframe thead tr:only-child th {\n",
       "        text-align: right;\n",
       "    }\n",
       "\n",
       "    .dataframe thead th {\n",
       "        text-align: left;\n",
       "    }\n",
       "\n",
       "    .dataframe tbody tr th {\n",
       "        vertical-align: top;\n",
       "    }\n",
       "</style>\n",
       "<table border=\"1\" class=\"dataframe\">\n",
       "  <thead>\n",
       "    <tr style=\"text-align: right;\">\n",
       "      <th></th>\n",
       "      <th>name</th>\n",
       "      <th>age</th>\n",
       "      <th>sex</th>\n",
       "      <th>height</th>\n",
       "    </tr>\n",
       "  </thead>\n",
       "  <tbody>\n",
       "    <tr>\n",
       "      <th>0</th>\n",
       "      <td>xiaoming</td>\n",
       "      <td>20</td>\n",
       "      <td>男</td>\n",
       "      <td>178</td>\n",
       "    </tr>\n",
       "    <tr>\n",
       "      <th>1</th>\n",
       "      <td>小红</td>\n",
       "      <td>20</td>\n",
       "      <td>女</td>\n",
       "      <td>173</td>\n",
       "    </tr>\n",
       "    <tr>\n",
       "      <th>2</th>\n",
       "      <td>小芳</td>\n",
       "      <td>25</td>\n",
       "      <td>女</td>\n",
       "      <td>165</td>\n",
       "    </tr>\n",
       "    <tr>\n",
       "      <th>3</th>\n",
       "      <td>大黑</td>\n",
       "      <td>24</td>\n",
       "      <td>男</td>\n",
       "      <td>188</td>\n",
       "    </tr>\n",
       "    <tr>\n",
       "      <th>4</th>\n",
       "      <td>张三</td>\n",
       "      <td>29</td>\n",
       "      <td>男</td>\n",
       "      <td>156</td>\n",
       "    </tr>\n",
       "  </tbody>\n",
       "</table>\n",
       "</div>"
      ],
      "text/plain": [
       "       name  age sex  height\n",
       "0  xiaoming   20   男     178\n",
       "1        小红   20   女     173\n",
       "2        小芳   25   女     165\n",
       "3        大黑   24   男     188\n",
       "4        张三   29   男     156"
      ]
     },
     "execution_count": 41,
     "metadata": {},
     "output_type": "execute_result"
    }
   ],
   "source": [
    "df"
   ]
  },
  {
   "cell_type": "code",
   "execution_count": 42,
   "metadata": {},
   "outputs": [
    {
     "data": {
      "text/plain": [
       "array([20, 25, 24, 29], dtype=int64)"
      ]
     },
     "execution_count": 42,
     "metadata": {},
     "output_type": "execute_result"
    }
   ],
   "source": [
    "# 查看一列有多少种值\n",
    "df.age.unique()"
   ]
  },
  {
   "cell_type": "code",
   "execution_count": 43,
   "metadata": {},
   "outputs": [
    {
     "data": {
      "text/plain": [
       "20    2\n",
       "29    1\n",
       "25    1\n",
       "24    1\n",
       "Name: age, dtype: int64"
      ]
     },
     "execution_count": 43,
     "metadata": {},
     "output_type": "execute_result"
    }
   ],
   "source": [
    "df.age.value_counts()"
   ]
  },
  {
   "cell_type": "code",
   "execution_count": 44,
   "metadata": {},
   "outputs": [
    {
     "data": {
      "text/html": [
       "<div>\n",
       "<style>\n",
       "    .dataframe thead tr:only-child th {\n",
       "        text-align: right;\n",
       "    }\n",
       "\n",
       "    .dataframe thead th {\n",
       "        text-align: left;\n",
       "    }\n",
       "\n",
       "    .dataframe tbody tr th {\n",
       "        vertical-align: top;\n",
       "    }\n",
       "</style>\n",
       "<table border=\"1\" class=\"dataframe\">\n",
       "  <thead>\n",
       "    <tr style=\"text-align: right;\">\n",
       "      <th></th>\n",
       "      <th>name</th>\n",
       "      <th>age</th>\n",
       "      <th>sex</th>\n",
       "      <th>height</th>\n",
       "    </tr>\n",
       "  </thead>\n",
       "  <tbody>\n",
       "    <tr>\n",
       "      <th>0</th>\n",
       "      <td>xiaoming</td>\n",
       "      <td>20</td>\n",
       "      <td>男</td>\n",
       "      <td>178</td>\n",
       "    </tr>\n",
       "    <tr>\n",
       "      <th>1</th>\n",
       "      <td>小红</td>\n",
       "      <td>20</td>\n",
       "      <td>女</td>\n",
       "      <td>173</td>\n",
       "    </tr>\n",
       "    <tr>\n",
       "      <th>3</th>\n",
       "      <td>大黑</td>\n",
       "      <td>24</td>\n",
       "      <td>男</td>\n",
       "      <td>188</td>\n",
       "    </tr>\n",
       "    <tr>\n",
       "      <th>2</th>\n",
       "      <td>小芳</td>\n",
       "      <td>25</td>\n",
       "      <td>女</td>\n",
       "      <td>165</td>\n",
       "    </tr>\n",
       "    <tr>\n",
       "      <th>4</th>\n",
       "      <td>张三</td>\n",
       "      <td>29</td>\n",
       "      <td>男</td>\n",
       "      <td>156</td>\n",
       "    </tr>\n",
       "  </tbody>\n",
       "</table>\n",
       "</div>"
      ],
      "text/plain": [
       "       name  age sex  height\n",
       "0  xiaoming   20   男     178\n",
       "1        小红   20   女     173\n",
       "3        大黑   24   男     188\n",
       "2        小芳   25   女     165\n",
       "4        张三   29   男     156"
      ]
     },
     "execution_count": 44,
     "metadata": {},
     "output_type": "execute_result"
    }
   ],
   "source": [
    "# 对数据进行排序\n",
    "df.sort_values('age')"
   ]
  },
  {
   "cell_type": "code",
   "execution_count": 47,
   "metadata": {
    "collapsed": true
   },
   "outputs": [],
   "source": [
    "?df.sort_values"
   ]
  },
  {
   "cell_type": "code",
   "execution_count": 48,
   "metadata": {},
   "outputs": [
    {
     "data": {
      "text/html": [
       "<div>\n",
       "<style>\n",
       "    .dataframe thead tr:only-child th {\n",
       "        text-align: right;\n",
       "    }\n",
       "\n",
       "    .dataframe thead th {\n",
       "        text-align: left;\n",
       "    }\n",
       "\n",
       "    .dataframe tbody tr th {\n",
       "        vertical-align: top;\n",
       "    }\n",
       "</style>\n",
       "<table border=\"1\" class=\"dataframe\">\n",
       "  <thead>\n",
       "    <tr style=\"text-align: right;\">\n",
       "      <th></th>\n",
       "      <th>name</th>\n",
       "      <th>age</th>\n",
       "      <th>sex</th>\n",
       "      <th>height</th>\n",
       "    </tr>\n",
       "  </thead>\n",
       "  <tbody>\n",
       "    <tr>\n",
       "      <th>0</th>\n",
       "      <td>xiaoming</td>\n",
       "      <td>20</td>\n",
       "      <td>男</td>\n",
       "      <td>178</td>\n",
       "    </tr>\n",
       "    <tr>\n",
       "      <th>1</th>\n",
       "      <td>小红</td>\n",
       "      <td>20</td>\n",
       "      <td>女</td>\n",
       "      <td>173</td>\n",
       "    </tr>\n",
       "    <tr>\n",
       "      <th>3</th>\n",
       "      <td>大黑</td>\n",
       "      <td>24</td>\n",
       "      <td>男</td>\n",
       "      <td>188</td>\n",
       "    </tr>\n",
       "    <tr>\n",
       "      <th>2</th>\n",
       "      <td>小芳</td>\n",
       "      <td>25</td>\n",
       "      <td>女</td>\n",
       "      <td>165</td>\n",
       "    </tr>\n",
       "    <tr>\n",
       "      <th>4</th>\n",
       "      <td>张三</td>\n",
       "      <td>29</td>\n",
       "      <td>男</td>\n",
       "      <td>156</td>\n",
       "    </tr>\n",
       "  </tbody>\n",
       "</table>\n",
       "</div>"
      ],
      "text/plain": [
       "       name  age sex  height\n",
       "0  xiaoming   20   男     178\n",
       "1        小红   20   女     173\n",
       "3        大黑   24   男     188\n",
       "2        小芳   25   女     165\n",
       "4        张三   29   男     156"
      ]
     },
     "execution_count": 48,
     "metadata": {},
     "output_type": "execute_result"
    }
   ],
   "source": [
    "df.sort_values(['age','height'],ascending=[True,False])"
   ]
  },
  {
   "cell_type": "code",
   "execution_count": 49,
   "metadata": {},
   "outputs": [
    {
     "data": {
      "text/plain": [
       "name       张三\n",
       "age        29\n",
       "sex         男\n",
       "height    188\n",
       "dtype: object"
      ]
     },
     "execution_count": 49,
     "metadata": {},
     "output_type": "execute_result"
    }
   ],
   "source": [
    "# 求极值, axis =0 表示列的最大值,axis =1 其实没什么用，因为如果有身高和年龄，那肯定每一行都是身高最大了\n",
    "df.max()"
   ]
  },
  {
   "cell_type": "code",
   "execution_count": 50,
   "metadata": {},
   "outputs": [
    {
     "data": {
      "text/plain": [
       "name      xiaoming\n",
       "age             20\n",
       "sex              女\n",
       "height         156\n",
       "dtype: object"
      ]
     },
     "execution_count": 50,
     "metadata": {},
     "output_type": "execute_result"
    }
   ],
   "source": [
    "df.min()"
   ]
  },
  {
   "cell_type": "code",
   "execution_count": 51,
   "metadata": {},
   "outputs": [
    {
     "data": {
      "text/plain": [
       "name      xiaoming小红小芳大黑张三\n",
       "age                    118\n",
       "sex                  男女女男男\n",
       "height                 860\n",
       "dtype: object"
      ]
     },
     "execution_count": 51,
     "metadata": {},
     "output_type": "execute_result"
    }
   ],
   "source": [
    "df.sum()"
   ]
  },
  {
   "cell_type": "markdown",
   "metadata": {
    "collapsed": true
   },
   "source": [
    "# DataFrame 的常用操作二\n",
    "1. 累加求和\n",
    "2. 增加、删除\n",
    "3. 修改增加值\n",
    "4. 值替换"
   ]
  },
  {
   "cell_type": "code",
   "execution_count": 53,
   "metadata": {},
   "outputs": [
    {
     "data": {
      "text/html": [
       "<div>\n",
       "<style>\n",
       "    .dataframe thead tr:only-child th {\n",
       "        text-align: right;\n",
       "    }\n",
       "\n",
       "    .dataframe thead th {\n",
       "        text-align: left;\n",
       "    }\n",
       "\n",
       "    .dataframe tbody tr th {\n",
       "        vertical-align: top;\n",
       "    }\n",
       "</style>\n",
       "<table border=\"1\" class=\"dataframe\">\n",
       "  <thead>\n",
       "    <tr style=\"text-align: right;\">\n",
       "      <th></th>\n",
       "      <th>name</th>\n",
       "      <th>age</th>\n",
       "      <th>sex</th>\n",
       "      <th>height</th>\n",
       "    </tr>\n",
       "  </thead>\n",
       "  <tbody>\n",
       "    <tr>\n",
       "      <th>0</th>\n",
       "      <td>xiaoming</td>\n",
       "      <td>20</td>\n",
       "      <td>男</td>\n",
       "      <td>178</td>\n",
       "    </tr>\n",
       "    <tr>\n",
       "      <th>1</th>\n",
       "      <td>小红</td>\n",
       "      <td>20</td>\n",
       "      <td>女</td>\n",
       "      <td>173</td>\n",
       "    </tr>\n",
       "    <tr>\n",
       "      <th>2</th>\n",
       "      <td>小芳</td>\n",
       "      <td>25</td>\n",
       "      <td>女</td>\n",
       "      <td>165</td>\n",
       "    </tr>\n",
       "    <tr>\n",
       "      <th>3</th>\n",
       "      <td>大黑</td>\n",
       "      <td>24</td>\n",
       "      <td>男</td>\n",
       "      <td>188</td>\n",
       "    </tr>\n",
       "    <tr>\n",
       "      <th>4</th>\n",
       "      <td>张三</td>\n",
       "      <td>29</td>\n",
       "      <td>男</td>\n",
       "      <td>156</td>\n",
       "    </tr>\n",
       "  </tbody>\n",
       "</table>\n",
       "</div>"
      ],
      "text/plain": [
       "       name  age sex  height\n",
       "0  xiaoming   20   男     178\n",
       "1        小红   20   女     173\n",
       "2        小芳   25   女     165\n",
       "3        大黑   24   男     188\n",
       "4        张三   29   男     156"
      ]
     },
     "execution_count": 53,
     "metadata": {},
     "output_type": "execute_result"
    }
   ],
   "source": [
    "df"
   ]
  },
  {
   "cell_type": "code",
   "execution_count": 52,
   "metadata": {},
   "outputs": [
    {
     "data": {
      "text/html": [
       "<div>\n",
       "<style>\n",
       "    .dataframe thead tr:only-child th {\n",
       "        text-align: right;\n",
       "    }\n",
       "\n",
       "    .dataframe thead th {\n",
       "        text-align: left;\n",
       "    }\n",
       "\n",
       "    .dataframe tbody tr th {\n",
       "        vertical-align: top;\n",
       "    }\n",
       "</style>\n",
       "<table border=\"1\" class=\"dataframe\">\n",
       "  <thead>\n",
       "    <tr style=\"text-align: right;\">\n",
       "      <th></th>\n",
       "      <th>name</th>\n",
       "      <th>age</th>\n",
       "      <th>sex</th>\n",
       "      <th>height</th>\n",
       "    </tr>\n",
       "  </thead>\n",
       "  <tbody>\n",
       "    <tr>\n",
       "      <th>0</th>\n",
       "      <td>xiaoming</td>\n",
       "      <td>20</td>\n",
       "      <td>男</td>\n",
       "      <td>178</td>\n",
       "    </tr>\n",
       "    <tr>\n",
       "      <th>1</th>\n",
       "      <td>xiaoming小红</td>\n",
       "      <td>40</td>\n",
       "      <td>男女</td>\n",
       "      <td>351</td>\n",
       "    </tr>\n",
       "    <tr>\n",
       "      <th>2</th>\n",
       "      <td>xiaoming小红小芳</td>\n",
       "      <td>65</td>\n",
       "      <td>男女女</td>\n",
       "      <td>516</td>\n",
       "    </tr>\n",
       "    <tr>\n",
       "      <th>3</th>\n",
       "      <td>xiaoming小红小芳大黑</td>\n",
       "      <td>89</td>\n",
       "      <td>男女女男</td>\n",
       "      <td>704</td>\n",
       "    </tr>\n",
       "    <tr>\n",
       "      <th>4</th>\n",
       "      <td>xiaoming小红小芳大黑张三</td>\n",
       "      <td>118</td>\n",
       "      <td>男女女男男</td>\n",
       "      <td>860</td>\n",
       "    </tr>\n",
       "  </tbody>\n",
       "</table>\n",
       "</div>"
      ],
      "text/plain": [
       "               name  age    sex height\n",
       "0          xiaoming   20      男    178\n",
       "1        xiaoming小红   40     男女    351\n",
       "2      xiaoming小红小芳   65    男女女    516\n",
       "3    xiaoming小红小芳大黑   89   男女女男    704\n",
       "4  xiaoming小红小芳大黑张三  118  男女女男男    860"
      ]
     },
     "execution_count": 52,
     "metadata": {},
     "output_type": "execute_result"
    }
   ],
   "source": [
    "# 累加求和\n",
    "df.cumsum(0)"
   ]
  },
  {
   "cell_type": "code",
   "execution_count": 54,
   "metadata": {},
   "outputs": [
    {
     "data": {
      "text/html": [
       "<div>\n",
       "<style>\n",
       "    .dataframe thead tr:only-child th {\n",
       "        text-align: right;\n",
       "    }\n",
       "\n",
       "    .dataframe thead th {\n",
       "        text-align: left;\n",
       "    }\n",
       "\n",
       "    .dataframe tbody tr th {\n",
       "        vertical-align: top;\n",
       "    }\n",
       "</style>\n",
       "<table border=\"1\" class=\"dataframe\">\n",
       "  <thead>\n",
       "    <tr style=\"text-align: right;\">\n",
       "      <th></th>\n",
       "      <th>name</th>\n",
       "      <th>age</th>\n",
       "      <th>sex</th>\n",
       "      <th>height</th>\n",
       "      <th>player</th>\n",
       "    </tr>\n",
       "  </thead>\n",
       "  <tbody>\n",
       "    <tr>\n",
       "      <th>0</th>\n",
       "      <td>xiaoming</td>\n",
       "      <td>20</td>\n",
       "      <td>男</td>\n",
       "      <td>178</td>\n",
       "      <td>1</td>\n",
       "    </tr>\n",
       "    <tr>\n",
       "      <th>1</th>\n",
       "      <td>小红</td>\n",
       "      <td>20</td>\n",
       "      <td>女</td>\n",
       "      <td>173</td>\n",
       "      <td>1</td>\n",
       "    </tr>\n",
       "    <tr>\n",
       "      <th>2</th>\n",
       "      <td>小芳</td>\n",
       "      <td>25</td>\n",
       "      <td>女</td>\n",
       "      <td>165</td>\n",
       "      <td>1</td>\n",
       "    </tr>\n",
       "    <tr>\n",
       "      <th>3</th>\n",
       "      <td>大黑</td>\n",
       "      <td>24</td>\n",
       "      <td>男</td>\n",
       "      <td>188</td>\n",
       "      <td>1</td>\n",
       "    </tr>\n",
       "    <tr>\n",
       "      <th>4</th>\n",
       "      <td>张三</td>\n",
       "      <td>29</td>\n",
       "      <td>男</td>\n",
       "      <td>156</td>\n",
       "      <td>1</td>\n",
       "    </tr>\n",
       "  </tbody>\n",
       "</table>\n",
       "</div>"
      ],
      "text/plain": [
       "       name  age sex  height  player\n",
       "0  xiaoming   20   男     178       1\n",
       "1        小红   20   女     173       1\n",
       "2        小芳   25   女     165       1\n",
       "3        大黑   24   男     188       1\n",
       "4        张三   29   男     156       1"
      ]
     },
     "execution_count": 54,
     "metadata": {},
     "output_type": "execute_result"
    }
   ],
   "source": [
    "# 增加一列\n",
    "df['player'] = 1\n",
    "df"
   ]
  },
  {
   "cell_type": "code",
   "execution_count": 55,
   "metadata": {},
   "outputs": [
    {
     "data": {
      "text/html": [
       "<div>\n",
       "<style>\n",
       "    .dataframe thead tr:only-child th {\n",
       "        text-align: right;\n",
       "    }\n",
       "\n",
       "    .dataframe thead th {\n",
       "        text-align: left;\n",
       "    }\n",
       "\n",
       "    .dataframe tbody tr th {\n",
       "        vertical-align: top;\n",
       "    }\n",
       "</style>\n",
       "<table border=\"1\" class=\"dataframe\">\n",
       "  <thead>\n",
       "    <tr style=\"text-align: right;\">\n",
       "      <th></th>\n",
       "      <th>name</th>\n",
       "      <th>age</th>\n",
       "      <th>sex</th>\n",
       "      <th>height</th>\n",
       "    </tr>\n",
       "  </thead>\n",
       "  <tbody>\n",
       "    <tr>\n",
       "      <th>0</th>\n",
       "      <td>xiaoming</td>\n",
       "      <td>20</td>\n",
       "      <td>男</td>\n",
       "      <td>178</td>\n",
       "    </tr>\n",
       "    <tr>\n",
       "      <th>1</th>\n",
       "      <td>小红</td>\n",
       "      <td>20</td>\n",
       "      <td>女</td>\n",
       "      <td>173</td>\n",
       "    </tr>\n",
       "    <tr>\n",
       "      <th>2</th>\n",
       "      <td>小芳</td>\n",
       "      <td>25</td>\n",
       "      <td>女</td>\n",
       "      <td>165</td>\n",
       "    </tr>\n",
       "    <tr>\n",
       "      <th>3</th>\n",
       "      <td>大黑</td>\n",
       "      <td>24</td>\n",
       "      <td>男</td>\n",
       "      <td>188</td>\n",
       "    </tr>\n",
       "    <tr>\n",
       "      <th>4</th>\n",
       "      <td>张三</td>\n",
       "      <td>29</td>\n",
       "      <td>男</td>\n",
       "      <td>156</td>\n",
       "    </tr>\n",
       "  </tbody>\n",
       "</table>\n",
       "</div>"
      ],
      "text/plain": [
       "       name  age sex  height\n",
       "0  xiaoming   20   男     178\n",
       "1        小红   20   女     173\n",
       "2        小芳   25   女     165\n",
       "3        大黑   24   男     188\n",
       "4        张三   29   男     156"
      ]
     },
     "execution_count": 55,
     "metadata": {},
     "output_type": "execute_result"
    }
   ],
   "source": [
    "# 删除一列\n",
    "del df['player']\n",
    "df"
   ]
  },
  {
   "cell_type": "code",
   "execution_count": 56,
   "metadata": {},
   "outputs": [
    {
     "data": {
      "text/html": [
       "<div>\n",
       "<style>\n",
       "    .dataframe thead tr:only-child th {\n",
       "        text-align: right;\n",
       "    }\n",
       "\n",
       "    .dataframe thead th {\n",
       "        text-align: left;\n",
       "    }\n",
       "\n",
       "    .dataframe tbody tr th {\n",
       "        vertical-align: top;\n",
       "    }\n",
       "</style>\n",
       "<table border=\"1\" class=\"dataframe\">\n",
       "  <thead>\n",
       "    <tr style=\"text-align: right;\">\n",
       "      <th></th>\n",
       "      <th>name</th>\n",
       "      <th>age</th>\n",
       "      <th>sex</th>\n",
       "      <th>height</th>\n",
       "    </tr>\n",
       "  </thead>\n",
       "  <tbody>\n",
       "    <tr>\n",
       "      <th>1</th>\n",
       "      <td>小红</td>\n",
       "      <td>20</td>\n",
       "      <td>女</td>\n",
       "      <td>173</td>\n",
       "    </tr>\n",
       "    <tr>\n",
       "      <th>2</th>\n",
       "      <td>小芳</td>\n",
       "      <td>25</td>\n",
       "      <td>女</td>\n",
       "      <td>165</td>\n",
       "    </tr>\n",
       "    <tr>\n",
       "      <th>3</th>\n",
       "      <td>大黑</td>\n",
       "      <td>24</td>\n",
       "      <td>男</td>\n",
       "      <td>188</td>\n",
       "    </tr>\n",
       "    <tr>\n",
       "      <th>4</th>\n",
       "      <td>张三</td>\n",
       "      <td>29</td>\n",
       "      <td>男</td>\n",
       "      <td>156</td>\n",
       "    </tr>\n",
       "  </tbody>\n",
       "</table>\n",
       "</div>"
      ],
      "text/plain": [
       "  name  age sex  height\n",
       "1   小红   20   女     173\n",
       "2   小芳   25   女     165\n",
       "3   大黑   24   男     188\n",
       "4   张三   29   男     156"
      ]
     },
     "execution_count": 56,
     "metadata": {},
     "output_type": "execute_result"
    }
   ],
   "source": [
    "# 删除行，labels 是行列的名字，默认axis=0删除行，为1则删除列\n",
    "df.drop(labels=0)"
   ]
  },
  {
   "cell_type": "code",
   "execution_count": 57,
   "metadata": {
    "collapsed": true
   },
   "outputs": [],
   "source": [
    "# 修改一列的值，使用 map 函数\n",
    "df.sex = df['sex'].map({'男':'female','女':'male'})"
   ]
  },
  {
   "cell_type": "code",
   "execution_count": 58,
   "metadata": {},
   "outputs": [
    {
     "data": {
      "text/html": [
       "<div>\n",
       "<style>\n",
       "    .dataframe thead tr:only-child th {\n",
       "        text-align: right;\n",
       "    }\n",
       "\n",
       "    .dataframe thead th {\n",
       "        text-align: left;\n",
       "    }\n",
       "\n",
       "    .dataframe tbody tr th {\n",
       "        vertical-align: top;\n",
       "    }\n",
       "</style>\n",
       "<table border=\"1\" class=\"dataframe\">\n",
       "  <thead>\n",
       "    <tr style=\"text-align: right;\">\n",
       "      <th></th>\n",
       "      <th>name</th>\n",
       "      <th>age</th>\n",
       "      <th>sex</th>\n",
       "      <th>height</th>\n",
       "    </tr>\n",
       "  </thead>\n",
       "  <tbody>\n",
       "    <tr>\n",
       "      <th>0</th>\n",
       "      <td>xiaoming</td>\n",
       "      <td>20</td>\n",
       "      <td>female</td>\n",
       "      <td>178</td>\n",
       "    </tr>\n",
       "    <tr>\n",
       "      <th>1</th>\n",
       "      <td>小红</td>\n",
       "      <td>20</td>\n",
       "      <td>male</td>\n",
       "      <td>173</td>\n",
       "    </tr>\n",
       "    <tr>\n",
       "      <th>2</th>\n",
       "      <td>小芳</td>\n",
       "      <td>25</td>\n",
       "      <td>male</td>\n",
       "      <td>165</td>\n",
       "    </tr>\n",
       "    <tr>\n",
       "      <th>3</th>\n",
       "      <td>大黑</td>\n",
       "      <td>24</td>\n",
       "      <td>female</td>\n",
       "      <td>188</td>\n",
       "    </tr>\n",
       "    <tr>\n",
       "      <th>4</th>\n",
       "      <td>张三</td>\n",
       "      <td>29</td>\n",
       "      <td>female</td>\n",
       "      <td>156</td>\n",
       "    </tr>\n",
       "  </tbody>\n",
       "</table>\n",
       "</div>"
      ],
      "text/plain": [
       "       name  age     sex  height\n",
       "0  xiaoming   20  female     178\n",
       "1        小红   20    male     173\n",
       "2        小芳   25    male     165\n",
       "3        大黑   24  female     188\n",
       "4        张三   29  female     156"
      ]
     },
     "execution_count": 58,
     "metadata": {},
     "output_type": "execute_result"
    }
   ],
   "source": [
    "df"
   ]
  },
  {
   "cell_type": "code",
   "execution_count": 59,
   "metadata": {
    "collapsed": true
   },
   "outputs": [],
   "source": [
    "# 还可以使用 replace 函数进行替换\n",
    "df.sex.replace('female','男',inplace=True)\n",
    "df.sex.replace('male','女',inplace=True)"
   ]
  },
  {
   "cell_type": "code",
   "execution_count": 60,
   "metadata": {},
   "outputs": [
    {
     "data": {
      "text/html": [
       "<div>\n",
       "<style>\n",
       "    .dataframe thead tr:only-child th {\n",
       "        text-align: right;\n",
       "    }\n",
       "\n",
       "    .dataframe thead th {\n",
       "        text-align: left;\n",
       "    }\n",
       "\n",
       "    .dataframe tbody tr th {\n",
       "        vertical-align: top;\n",
       "    }\n",
       "</style>\n",
       "<table border=\"1\" class=\"dataframe\">\n",
       "  <thead>\n",
       "    <tr style=\"text-align: right;\">\n",
       "      <th></th>\n",
       "      <th>name</th>\n",
       "      <th>age</th>\n",
       "      <th>sex</th>\n",
       "      <th>height</th>\n",
       "    </tr>\n",
       "  </thead>\n",
       "  <tbody>\n",
       "    <tr>\n",
       "      <th>0</th>\n",
       "      <td>xiaoming</td>\n",
       "      <td>20</td>\n",
       "      <td>男</td>\n",
       "      <td>178</td>\n",
       "    </tr>\n",
       "    <tr>\n",
       "      <th>1</th>\n",
       "      <td>小红</td>\n",
       "      <td>20</td>\n",
       "      <td>女</td>\n",
       "      <td>173</td>\n",
       "    </tr>\n",
       "    <tr>\n",
       "      <th>2</th>\n",
       "      <td>小芳</td>\n",
       "      <td>25</td>\n",
       "      <td>女</td>\n",
       "      <td>165</td>\n",
       "    </tr>\n",
       "    <tr>\n",
       "      <th>3</th>\n",
       "      <td>大黑</td>\n",
       "      <td>24</td>\n",
       "      <td>男</td>\n",
       "      <td>188</td>\n",
       "    </tr>\n",
       "    <tr>\n",
       "      <th>4</th>\n",
       "      <td>张三</td>\n",
       "      <td>29</td>\n",
       "      <td>男</td>\n",
       "      <td>156</td>\n",
       "    </tr>\n",
       "  </tbody>\n",
       "</table>\n",
       "</div>"
      ],
      "text/plain": [
       "       name  age sex  height\n",
       "0  xiaoming   20   男     178\n",
       "1        小红   20   女     173\n",
       "2        小芳   25   女     165\n",
       "3        大黑   24   男     188\n",
       "4        张三   29   男     156"
      ]
     },
     "execution_count": 60,
     "metadata": {},
     "output_type": "execute_result"
    }
   ],
   "source": [
    "df"
   ]
  },
  {
   "cell_type": "markdown",
   "metadata": {},
   "source": [
    "# DataFrame 的常用操作三\n",
    "1. 最值得索引位置\n",
    "2. 矩阵的运算"
   ]
  },
  {
   "cell_type": "code",
   "execution_count": 63,
   "metadata": {},
   "outputs": [
    {
     "data": {
      "text/html": [
       "<div>\n",
       "<style>\n",
       "    .dataframe thead tr:only-child th {\n",
       "        text-align: right;\n",
       "    }\n",
       "\n",
       "    .dataframe thead th {\n",
       "        text-align: left;\n",
       "    }\n",
       "\n",
       "    .dataframe tbody tr th {\n",
       "        vertical-align: top;\n",
       "    }\n",
       "</style>\n",
       "<table border=\"1\" class=\"dataframe\">\n",
       "  <thead>\n",
       "    <tr style=\"text-align: right;\">\n",
       "      <th></th>\n",
       "      <th>a</th>\n",
       "      <th>b</th>\n",
       "      <th>c</th>\n",
       "      <th>d</th>\n",
       "      <th>e</th>\n",
       "      <th>f</th>\n",
       "      <th>g</th>\n",
       "      <th>h</th>\n",
       "      <th>i</th>\n",
       "      <th>j</th>\n",
       "    </tr>\n",
       "  </thead>\n",
       "  <tbody>\n",
       "    <tr>\n",
       "      <th>0</th>\n",
       "      <td>0.896438</td>\n",
       "      <td>0.841122</td>\n",
       "      <td>0.238113</td>\n",
       "      <td>0.337115</td>\n",
       "      <td>0.478989</td>\n",
       "      <td>0.468485</td>\n",
       "      <td>0.042771</td>\n",
       "      <td>0.479454</td>\n",
       "      <td>0.276876</td>\n",
       "      <td>0.426447</td>\n",
       "    </tr>\n",
       "    <tr>\n",
       "      <th>1</th>\n",
       "      <td>0.357495</td>\n",
       "      <td>0.968991</td>\n",
       "      <td>0.888388</td>\n",
       "      <td>0.839632</td>\n",
       "      <td>0.325568</td>\n",
       "      <td>0.233114</td>\n",
       "      <td>0.121236</td>\n",
       "      <td>0.656806</td>\n",
       "      <td>0.212282</td>\n",
       "      <td>0.207293</td>\n",
       "    </tr>\n",
       "    <tr>\n",
       "      <th>2</th>\n",
       "      <td>0.916775</td>\n",
       "      <td>0.411626</td>\n",
       "      <td>0.574248</td>\n",
       "      <td>0.973014</td>\n",
       "      <td>0.959052</td>\n",
       "      <td>0.512999</td>\n",
       "      <td>0.308992</td>\n",
       "      <td>0.258579</td>\n",
       "      <td>0.704856</td>\n",
       "      <td>0.996700</td>\n",
       "    </tr>\n",
       "    <tr>\n",
       "      <th>3</th>\n",
       "      <td>0.256592</td>\n",
       "      <td>0.171047</td>\n",
       "      <td>0.881406</td>\n",
       "      <td>0.616196</td>\n",
       "      <td>0.525863</td>\n",
       "      <td>0.913471</td>\n",
       "      <td>0.206393</td>\n",
       "      <td>0.894393</td>\n",
       "      <td>0.120939</td>\n",
       "      <td>0.151127</td>\n",
       "    </tr>\n",
       "    <tr>\n",
       "      <th>4</th>\n",
       "      <td>0.967306</td>\n",
       "      <td>0.567964</td>\n",
       "      <td>0.459455</td>\n",
       "      <td>0.328294</td>\n",
       "      <td>0.358375</td>\n",
       "      <td>0.530322</td>\n",
       "      <td>0.186378</td>\n",
       "      <td>0.580079</td>\n",
       "      <td>0.164235</td>\n",
       "      <td>0.657795</td>\n",
       "    </tr>\n",
       "  </tbody>\n",
       "</table>\n",
       "</div>"
      ],
      "text/plain": [
       "          a         b         c         d         e         f         g  \\\n",
       "0  0.896438  0.841122  0.238113  0.337115  0.478989  0.468485  0.042771   \n",
       "1  0.357495  0.968991  0.888388  0.839632  0.325568  0.233114  0.121236   \n",
       "2  0.916775  0.411626  0.574248  0.973014  0.959052  0.512999  0.308992   \n",
       "3  0.256592  0.171047  0.881406  0.616196  0.525863  0.913471  0.206393   \n",
       "4  0.967306  0.567964  0.459455  0.328294  0.358375  0.530322  0.186378   \n",
       "\n",
       "          h         i         j  \n",
       "0  0.479454  0.276876  0.426447  \n",
       "1  0.656806  0.212282  0.207293  \n",
       "2  0.258579  0.704856  0.996700  \n",
       "3  0.894393  0.120939  0.151127  \n",
       "4  0.580079  0.164235  0.657795  "
      ]
     },
     "execution_count": 63,
     "metadata": {},
     "output_type": "execute_result"
    }
   ],
   "source": [
    "# 最值得索引位置\n",
    "import numpy as np\n",
    "\n",
    "df=pd.DataFrame(np.random.random((5,10)),columns=list('abcdefghij'))\n",
    "df"
   ]
  },
  {
   "cell_type": "code",
   "execution_count": 65,
   "metadata": {},
   "outputs": [
    {
     "data": {
      "text/plain": [
       "a    4\n",
       "b    1\n",
       "c    1\n",
       "d    2\n",
       "e    2\n",
       "f    3\n",
       "g    2\n",
       "h    3\n",
       "i    2\n",
       "j    2\n",
       "dtype: int64"
      ]
     },
     "execution_count": 65,
     "metadata": {},
     "output_type": "execute_result"
    }
   ],
   "source": [
    "df.idxmax()"
   ]
  },
  {
   "cell_type": "code",
   "execution_count": 66,
   "metadata": {
    "collapsed": true
   },
   "outputs": [],
   "source": [
    "# 矩阵间得运算\n",
    "# a.相同维度得矩阵加减乘除就是对应元素进行操作\n",
    "df1=pd.DataFrame(np.random.random((5,10)),columns=list('abcdefghij'))\n",
    "df2=pd.DataFrame(np.random.random((5,10)),columns=list('abcdefghij'))"
   ]
  },
  {
   "cell_type": "code",
   "execution_count": 67,
   "metadata": {},
   "outputs": [
    {
     "data": {
      "text/html": [
       "<div>\n",
       "<style>\n",
       "    .dataframe thead tr:only-child th {\n",
       "        text-align: right;\n",
       "    }\n",
       "\n",
       "    .dataframe thead th {\n",
       "        text-align: left;\n",
       "    }\n",
       "\n",
       "    .dataframe tbody tr th {\n",
       "        vertical-align: top;\n",
       "    }\n",
       "</style>\n",
       "<table border=\"1\" class=\"dataframe\">\n",
       "  <thead>\n",
       "    <tr style=\"text-align: right;\">\n",
       "      <th></th>\n",
       "      <th>a</th>\n",
       "      <th>b</th>\n",
       "      <th>c</th>\n",
       "      <th>d</th>\n",
       "      <th>e</th>\n",
       "      <th>f</th>\n",
       "      <th>g</th>\n",
       "      <th>h</th>\n",
       "      <th>i</th>\n",
       "      <th>j</th>\n",
       "    </tr>\n",
       "  </thead>\n",
       "  <tbody>\n",
       "    <tr>\n",
       "      <th>0</th>\n",
       "      <td>0.411104</td>\n",
       "      <td>0.407819</td>\n",
       "      <td>0.211764</td>\n",
       "      <td>0.093835</td>\n",
       "      <td>0.727592</td>\n",
       "      <td>0.890875</td>\n",
       "      <td>0.729886</td>\n",
       "      <td>0.879476</td>\n",
       "      <td>0.218267</td>\n",
       "      <td>0.188540</td>\n",
       "    </tr>\n",
       "    <tr>\n",
       "      <th>1</th>\n",
       "      <td>0.446697</td>\n",
       "      <td>0.266577</td>\n",
       "      <td>0.181073</td>\n",
       "      <td>0.590714</td>\n",
       "      <td>0.595073</td>\n",
       "      <td>0.770989</td>\n",
       "      <td>0.180824</td>\n",
       "      <td>0.550413</td>\n",
       "      <td>0.524416</td>\n",
       "      <td>0.065004</td>\n",
       "    </tr>\n",
       "    <tr>\n",
       "      <th>2</th>\n",
       "      <td>0.985943</td>\n",
       "      <td>0.743149</td>\n",
       "      <td>0.675071</td>\n",
       "      <td>0.697527</td>\n",
       "      <td>0.574375</td>\n",
       "      <td>0.785474</td>\n",
       "      <td>0.305276</td>\n",
       "      <td>0.071509</td>\n",
       "      <td>0.442852</td>\n",
       "      <td>0.943425</td>\n",
       "    </tr>\n",
       "    <tr>\n",
       "      <th>3</th>\n",
       "      <td>0.121891</td>\n",
       "      <td>0.673413</td>\n",
       "      <td>0.544299</td>\n",
       "      <td>0.735409</td>\n",
       "      <td>0.499582</td>\n",
       "      <td>0.730790</td>\n",
       "      <td>0.321173</td>\n",
       "      <td>0.358319</td>\n",
       "      <td>0.187938</td>\n",
       "      <td>0.520983</td>\n",
       "    </tr>\n",
       "    <tr>\n",
       "      <th>4</th>\n",
       "      <td>0.313272</td>\n",
       "      <td>0.922570</td>\n",
       "      <td>0.961320</td>\n",
       "      <td>0.271629</td>\n",
       "      <td>0.844004</td>\n",
       "      <td>0.821190</td>\n",
       "      <td>0.733437</td>\n",
       "      <td>0.967214</td>\n",
       "      <td>0.411191</td>\n",
       "      <td>0.973366</td>\n",
       "    </tr>\n",
       "  </tbody>\n",
       "</table>\n",
       "</div>"
      ],
      "text/plain": [
       "          a         b         c         d         e         f         g  \\\n",
       "0  0.411104  0.407819  0.211764  0.093835  0.727592  0.890875  0.729886   \n",
       "1  0.446697  0.266577  0.181073  0.590714  0.595073  0.770989  0.180824   \n",
       "2  0.985943  0.743149  0.675071  0.697527  0.574375  0.785474  0.305276   \n",
       "3  0.121891  0.673413  0.544299  0.735409  0.499582  0.730790  0.321173   \n",
       "4  0.313272  0.922570  0.961320  0.271629  0.844004  0.821190  0.733437   \n",
       "\n",
       "          h         i         j  \n",
       "0  0.879476  0.218267  0.188540  \n",
       "1  0.550413  0.524416  0.065004  \n",
       "2  0.071509  0.442852  0.943425  \n",
       "3  0.358319  0.187938  0.520983  \n",
       "4  0.967214  0.411191  0.973366  "
      ]
     },
     "execution_count": 67,
     "metadata": {},
     "output_type": "execute_result"
    }
   ],
   "source": [
    "df1"
   ]
  },
  {
   "cell_type": "code",
   "execution_count": 68,
   "metadata": {},
   "outputs": [
    {
     "data": {
      "text/html": [
       "<div>\n",
       "<style>\n",
       "    .dataframe thead tr:only-child th {\n",
       "        text-align: right;\n",
       "    }\n",
       "\n",
       "    .dataframe thead th {\n",
       "        text-align: left;\n",
       "    }\n",
       "\n",
       "    .dataframe tbody tr th {\n",
       "        vertical-align: top;\n",
       "    }\n",
       "</style>\n",
       "<table border=\"1\" class=\"dataframe\">\n",
       "  <thead>\n",
       "    <tr style=\"text-align: right;\">\n",
       "      <th></th>\n",
       "      <th>a</th>\n",
       "      <th>b</th>\n",
       "      <th>c</th>\n",
       "      <th>d</th>\n",
       "      <th>e</th>\n",
       "      <th>f</th>\n",
       "      <th>g</th>\n",
       "      <th>h</th>\n",
       "      <th>i</th>\n",
       "      <th>j</th>\n",
       "    </tr>\n",
       "  </thead>\n",
       "  <tbody>\n",
       "    <tr>\n",
       "      <th>0</th>\n",
       "      <td>0.164637</td>\n",
       "      <td>0.750084</td>\n",
       "      <td>0.816663</td>\n",
       "      <td>0.553939</td>\n",
       "      <td>0.460628</td>\n",
       "      <td>0.213314</td>\n",
       "      <td>0.655773</td>\n",
       "      <td>0.273625</td>\n",
       "      <td>0.405629</td>\n",
       "      <td>0.228852</td>\n",
       "    </tr>\n",
       "    <tr>\n",
       "      <th>1</th>\n",
       "      <td>0.459847</td>\n",
       "      <td>0.804855</td>\n",
       "      <td>0.389686</td>\n",
       "      <td>0.227647</td>\n",
       "      <td>0.971335</td>\n",
       "      <td>0.881055</td>\n",
       "      <td>0.180769</td>\n",
       "      <td>0.352126</td>\n",
       "      <td>0.743946</td>\n",
       "      <td>0.415922</td>\n",
       "    </tr>\n",
       "    <tr>\n",
       "      <th>2</th>\n",
       "      <td>0.638677</td>\n",
       "      <td>0.391707</td>\n",
       "      <td>0.376307</td>\n",
       "      <td>0.207265</td>\n",
       "      <td>0.773846</td>\n",
       "      <td>0.918388</td>\n",
       "      <td>0.506947</td>\n",
       "      <td>0.728748</td>\n",
       "      <td>0.966303</td>\n",
       "      <td>0.688333</td>\n",
       "    </tr>\n",
       "    <tr>\n",
       "      <th>3</th>\n",
       "      <td>0.740952</td>\n",
       "      <td>0.114735</td>\n",
       "      <td>0.838616</td>\n",
       "      <td>0.742224</td>\n",
       "      <td>0.295083</td>\n",
       "      <td>0.858057</td>\n",
       "      <td>0.040920</td>\n",
       "      <td>0.197818</td>\n",
       "      <td>0.153207</td>\n",
       "      <td>0.489510</td>\n",
       "    </tr>\n",
       "    <tr>\n",
       "      <th>4</th>\n",
       "      <td>0.673658</td>\n",
       "      <td>0.245425</td>\n",
       "      <td>0.391593</td>\n",
       "      <td>0.452082</td>\n",
       "      <td>0.160020</td>\n",
       "      <td>0.958444</td>\n",
       "      <td>0.506916</td>\n",
       "      <td>0.930694</td>\n",
       "      <td>0.475094</td>\n",
       "      <td>0.934275</td>\n",
       "    </tr>\n",
       "  </tbody>\n",
       "</table>\n",
       "</div>"
      ],
      "text/plain": [
       "          a         b         c         d         e         f         g  \\\n",
       "0  0.164637  0.750084  0.816663  0.553939  0.460628  0.213314  0.655773   \n",
       "1  0.459847  0.804855  0.389686  0.227647  0.971335  0.881055  0.180769   \n",
       "2  0.638677  0.391707  0.376307  0.207265  0.773846  0.918388  0.506947   \n",
       "3  0.740952  0.114735  0.838616  0.742224  0.295083  0.858057  0.040920   \n",
       "4  0.673658  0.245425  0.391593  0.452082  0.160020  0.958444  0.506916   \n",
       "\n",
       "          h         i         j  \n",
       "0  0.273625  0.405629  0.228852  \n",
       "1  0.352126  0.743946  0.415922  \n",
       "2  0.728748  0.966303  0.688333  \n",
       "3  0.197818  0.153207  0.489510  \n",
       "4  0.930694  0.475094  0.934275  "
      ]
     },
     "execution_count": 68,
     "metadata": {},
     "output_type": "execute_result"
    }
   ],
   "source": [
    "df2"
   ]
  },
  {
   "cell_type": "code",
   "execution_count": 72,
   "metadata": {},
   "outputs": [
    {
     "data": {
      "text/html": [
       "<div>\n",
       "<style>\n",
       "    .dataframe thead tr:only-child th {\n",
       "        text-align: right;\n",
       "    }\n",
       "\n",
       "    .dataframe thead th {\n",
       "        text-align: left;\n",
       "    }\n",
       "\n",
       "    .dataframe tbody tr th {\n",
       "        vertical-align: top;\n",
       "    }\n",
       "</style>\n",
       "<table border=\"1\" class=\"dataframe\">\n",
       "  <thead>\n",
       "    <tr style=\"text-align: right;\">\n",
       "      <th></th>\n",
       "      <th>a</th>\n",
       "      <th>b</th>\n",
       "      <th>c</th>\n",
       "      <th>d</th>\n",
       "      <th>e</th>\n",
       "      <th>f</th>\n",
       "      <th>g</th>\n",
       "      <th>h</th>\n",
       "      <th>i</th>\n",
       "      <th>j</th>\n",
       "    </tr>\n",
       "  </thead>\n",
       "  <tbody>\n",
       "    <tr>\n",
       "      <th>0</th>\n",
       "      <td>-9.588896</td>\n",
       "      <td>-9.592181</td>\n",
       "      <td>-9.788236</td>\n",
       "      <td>-9.906165</td>\n",
       "      <td>-9.272408</td>\n",
       "      <td>-9.109125</td>\n",
       "      <td>-9.270114</td>\n",
       "      <td>-9.120524</td>\n",
       "      <td>-9.781733</td>\n",
       "      <td>-9.811460</td>\n",
       "    </tr>\n",
       "    <tr>\n",
       "      <th>1</th>\n",
       "      <td>-9.553303</td>\n",
       "      <td>-9.733423</td>\n",
       "      <td>-9.818927</td>\n",
       "      <td>-9.409286</td>\n",
       "      <td>-9.404927</td>\n",
       "      <td>-9.229011</td>\n",
       "      <td>-9.819176</td>\n",
       "      <td>-9.449587</td>\n",
       "      <td>-9.475584</td>\n",
       "      <td>-9.934996</td>\n",
       "    </tr>\n",
       "    <tr>\n",
       "      <th>2</th>\n",
       "      <td>-9.014057</td>\n",
       "      <td>-9.256851</td>\n",
       "      <td>-9.324929</td>\n",
       "      <td>-9.302473</td>\n",
       "      <td>-9.425625</td>\n",
       "      <td>-9.214526</td>\n",
       "      <td>-9.694724</td>\n",
       "      <td>-9.928491</td>\n",
       "      <td>-9.557148</td>\n",
       "      <td>-9.056575</td>\n",
       "    </tr>\n",
       "    <tr>\n",
       "      <th>3</th>\n",
       "      <td>-9.878109</td>\n",
       "      <td>-9.326587</td>\n",
       "      <td>-9.455701</td>\n",
       "      <td>-9.264591</td>\n",
       "      <td>-9.500418</td>\n",
       "      <td>-9.269210</td>\n",
       "      <td>-9.678827</td>\n",
       "      <td>-9.641681</td>\n",
       "      <td>-9.812062</td>\n",
       "      <td>-9.479017</td>\n",
       "    </tr>\n",
       "    <tr>\n",
       "      <th>4</th>\n",
       "      <td>-9.686728</td>\n",
       "      <td>-9.077430</td>\n",
       "      <td>-9.038680</td>\n",
       "      <td>-9.728371</td>\n",
       "      <td>-9.155996</td>\n",
       "      <td>-9.178810</td>\n",
       "      <td>-9.266563</td>\n",
       "      <td>-9.032786</td>\n",
       "      <td>-9.588809</td>\n",
       "      <td>-9.026634</td>\n",
       "    </tr>\n",
       "  </tbody>\n",
       "</table>\n",
       "</div>"
      ],
      "text/plain": [
       "          a         b         c         d         e         f         g  \\\n",
       "0 -9.588896 -9.592181 -9.788236 -9.906165 -9.272408 -9.109125 -9.270114   \n",
       "1 -9.553303 -9.733423 -9.818927 -9.409286 -9.404927 -9.229011 -9.819176   \n",
       "2 -9.014057 -9.256851 -9.324929 -9.302473 -9.425625 -9.214526 -9.694724   \n",
       "3 -9.878109 -9.326587 -9.455701 -9.264591 -9.500418 -9.269210 -9.678827   \n",
       "4 -9.686728 -9.077430 -9.038680 -9.728371 -9.155996 -9.178810 -9.266563   \n",
       "\n",
       "          h         i         j  \n",
       "0 -9.120524 -9.781733 -9.811460  \n",
       "1 -9.449587 -9.475584 -9.934996  \n",
       "2 -9.928491 -9.557148 -9.056575  \n",
       "3 -9.641681 -9.812062 -9.479017  \n",
       "4 -9.032786 -9.588809 -9.026634  "
      ]
     },
     "execution_count": 72,
     "metadata": {},
     "output_type": "execute_result"
    }
   ],
   "source": [
    "df1-10"
   ]
  },
  {
   "cell_type": "code",
   "execution_count": null,
   "metadata": {
    "collapsed": true
   },
   "outputs": [],
   "source": []
  }
 ],
 "metadata": {
  "kernelspec": {
   "display_name": "Python 3",
   "language": "python",
   "name": "python3"
  },
  "language_info": {
   "codemirror_mode": {
    "name": "ipython",
    "version": 3
   },
   "file_extension": ".py",
   "mimetype": "text/x-python",
   "name": "python",
   "nbconvert_exporter": "python",
   "pygments_lexer": "ipython3",
   "version": "3.6.3"
  }
 },
 "nbformat": 4,
 "nbformat_minor": 2
}
