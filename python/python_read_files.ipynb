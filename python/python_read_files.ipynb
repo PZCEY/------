{
 "cells": [
  {
   "cell_type": "markdown",
   "metadata": {},
   "source": [
    "## python读取txt文件"
   ]
  },
  {
   "cell_type": "code",
   "execution_count": 25,
   "metadata": {},
   "outputs": [
    {
     "name": "stdout",
     "output_type": "stream",
     "text": [
      "                      0\n",
      "0  1  2   3   4   5   6\n",
      "1  1  2   3   4   5   6\n",
      "2  1  2   3   4   5   6\n",
      "3  1  2   3   4   5   6\n",
      "4  1  2   3   4   5   6\n",
      "5  1  2   3   4   5   6\n",
      "[['1  2   3   4   5   6']\n",
      " ['1  2   3   4   5   6']\n",
      " ['1  2   3   4   5   6']\n",
      " ['1  2   3   4   5   6']\n",
      " ['1  2   3   4   5   6']\n",
      " ['1  2   3   4   5   6']]\n"
     ]
    }
   ],
   "source": [
    "# 1. 利用pandas package\n",
    "import pandas as pd\n",
    "data = pd.read_csv('ReadWriteTest.txt',header = None)\n",
    "print(data)\n",
    "data_matrix  = data.to_numpy()\n",
    "print(data_matrix)\n"
   ]
  },
  {
   "cell_type": "code",
   "execution_count": 14,
   "metadata": {},
   "outputs": [
    {
     "name": "stdout",
     "output_type": "stream",
     "text": [
      "[['1', '2', '3', '4', '5', '6'], ['1', '2', '3', '4', '5', '6'], ['1', '2', '3', '4', '5', '6'], ['1', '2', '3', '4', '5', '6'], ['1', '2', '3', '4', '5', '6'], ['1', '2', '3', '4', '5', '6']]\n"
     ]
    }
   ],
   "source": [
    "# 2. 利用原始的open函数\n",
    "data1 = []\n",
    "with open('ReadWriteTest.txt','r') as f:\n",
    "    line = f.readline()\n",
    "    while line:\n",
    "        row = line.split()\n",
    "        data1.append(row)\n",
    "        line = f.readline()\n",
    "print(data1)"
   ]
  },
  {
   "cell_type": "code",
   "execution_count": 16,
   "metadata": {},
   "outputs": [
    {
     "name": "stdout",
     "output_type": "stream",
     "text": [
      "[['1', '2', '3', '4', '5', '6'], ['1', '2', '3', '4', '5', '6'], ['1', '2', '3', '4', '5', '6'], ['1', '2', '3', '4', '5', '6'], ['1', '2', '3', '4', '5', '6'], ['1', '2', '3', '4', '5', '6']]\n"
     ]
    }
   ],
   "source": [
    "import numpy as np\n",
    "with open('ReadWriteTest.txt','r') as f:\n",
    "    lines = f.readlines()\n",
    "    rows = len(lines)\n",
    "    data2 = np.zeros((rows,6))\n",
    "    row = 0\n",
    "    for line in lines:\n",
    "        line = line.strip().split()\n",
    "        data2[row,:] = line[:]\n",
    "        row += 1\n",
    "print(data1)"
   ]
  },
  {
   "cell_type": "markdown",
   "metadata": {},
   "source": [
    "## python写入文件"
   ]
  },
  {
   "cell_type": "code",
   "execution_count": 13,
   "metadata": {},
   "outputs": [],
   "source": [
    "# 1.利用原始的open函数\n",
    "'''\n",
    "w表示从开头覆盖原始内容 / a表示接着末尾指针接着写\n",
    "用 with 格式打开文件会自动close文件\n",
    "'''\n",
    "with open('ReadWriteTest.txt','a') as f:\n",
    "    for i in range(6):\n",
    "        f.write(\"1  2   3   4   5   6\\n\")"
   ]
  }
 ],
 "metadata": {
  "interpreter": {
   "hash": "7a1df6e6152eccfae53c55d98ccf7ee794e25dfed4cfa8e4dfad58098839b1ca"
  },
  "kernelspec": {
   "display_name": "Python 3.8.8 64-bit ('CV': conda)",
   "language": "python",
   "name": "python3"
  },
  "language_info": {
   "codemirror_mode": {
    "name": "ipython",
    "version": 3
   },
   "file_extension": ".py",
   "mimetype": "text/x-python",
   "name": "python",
   "nbconvert_exporter": "python",
   "pygments_lexer": "ipython3",
   "version": "3.8.8"
  },
  "orig_nbformat": 4
 },
 "nbformat": 4,
 "nbformat_minor": 2
}
