{
 "cells": [
  {
   "cell_type": "markdown",
   "metadata": {},
   "source": [
    "1. pandas.replace"
   ]
  },
  {
   "cell_type": "code",
   "execution_count": 2,
   "metadata": {},
   "outputs": [
    {
     "name": "stdout",
     "output_type": "stream",
     "text": [
      "[2, 3, 4]\n",
      "4\n"
     ]
    }
   ],
   "source": [
    "num = [1,2,3,4]\n",
    "print(num[1:])\n",
    "print(len(num))"
   ]
  },
  {
   "cell_type": "code",
   "execution_count": null,
   "metadata": {},
   "outputs": [],
   "source": [
    "class Solution(object):\n",
    "    def translateNum(self, num):\n",
    "        \"\"\"\n",
    "        :type num: int\n",
    "        :rtype: int\n",
    "        \"\"\"\n",
    "        num = [x for x in str(num)]\n",
    "        if len(num)<2:\n",
    "            return 1\n",
    "        dp = [0]*len(num)\n",
    "        dp[0]=1\n",
    "        if int(num[0])*10 + int(num[1]) <= 25: \n",
    "            dp[1] = 2\n",
    "        else:\n",
    "            dp[1] = 1\n",
    "        for i in range(2,len(num)):\n",
    "            if int(num[i-1])*10+int(num[i])<=25 and int(num[i-1])!=0:\n",
    "                if dp[i-1] == dp[i-2]:\n",
    "                    dp[i] = dp[i-2]+1\n",
    "                else:\n",
    "                    dp[i]=dp[i-2]+dp[i-1]\n",
    "            else:\n",
    "                dp[i] = dp[i-1]\n",
    "        return dp[len(num)-1]"
   ]
  }
 ],
 "metadata": {
  "interpreter": {
   "hash": "a23765a797a7c17c81f28591dbde14da9db8166235efebbc3a4214067aeed134"
  },
  "kernelspec": {
   "display_name": "Python 3.8.8 64-bit ('base': conda)",
   "language": "python",
   "name": "python3"
  },
  "language_info": {
   "codemirror_mode": {
    "name": "ipython",
    "version": 3
   },
   "file_extension": ".py",
   "mimetype": "text/x-python",
   "name": "python",
   "nbconvert_exporter": "python",
   "pygments_lexer": "ipython3",
   "version": "3.8.8"
  },
  "orig_nbformat": 4
 },
 "nbformat": 4,
 "nbformat_minor": 2
}
